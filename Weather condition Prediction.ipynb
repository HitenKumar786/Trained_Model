{
 "cells": [
  {
   "cell_type": "markdown",
   "id": "b7f190af",
   "metadata": {},
   "source": [
    "# Weather Condition Prediction"
   ]
  },
  {
   "cell_type": "markdown",
   "id": "2f60d45f",
   "metadata": {},
   "source": [
    "# Task#1: Importing Required Libraries"
   ]
  },
  {
   "cell_type": "code",
   "execution_count": 2,
   "id": "4c873d88",
   "metadata": {},
   "outputs": [],
   "source": [
    "import pandas as pd "
   ]
  },
  {
   "cell_type": "markdown",
   "id": "d84a7c68",
   "metadata": {},
   "source": [
    "# Task#2: Loading Dataset"
   ]
  },
  {
   "cell_type": "code",
   "execution_count": 4,
   "id": "99fef18f",
   "metadata": {},
   "outputs": [],
   "source": [
    "data = pd.read_csv('seattle-weather.csv')"
   ]
  },
  {
   "cell_type": "markdown",
   "id": "c239b341",
   "metadata": {},
   "source": [
    "# Task#3: Exploratory Data Analysis(EDA)"
   ]
  },
  {
   "cell_type": "code",
   "execution_count": 8,
   "id": "7e1b6145",
   "metadata": {},
   "outputs": [
    {
     "data": {
      "text/html": [
       "<div>\n",
       "<style scoped>\n",
       "    .dataframe tbody tr th:only-of-type {\n",
       "        vertical-align: middle;\n",
       "    }\n",
       "\n",
       "    .dataframe tbody tr th {\n",
       "        vertical-align: top;\n",
       "    }\n",
       "\n",
       "    .dataframe thead th {\n",
       "        text-align: right;\n",
       "    }\n",
       "</style>\n",
       "<table border=\"1\" class=\"dataframe\">\n",
       "  <thead>\n",
       "    <tr style=\"text-align: right;\">\n",
       "      <th></th>\n",
       "      <th>date</th>\n",
       "      <th>precipitation</th>\n",
       "      <th>temp_max</th>\n",
       "      <th>temp_min</th>\n",
       "      <th>wind</th>\n",
       "      <th>weather</th>\n",
       "    </tr>\n",
       "  </thead>\n",
       "  <tbody>\n",
       "    <tr>\n",
       "      <th>0</th>\n",
       "      <td>2012-01-01</td>\n",
       "      <td>0.0</td>\n",
       "      <td>12.8</td>\n",
       "      <td>5.0</td>\n",
       "      <td>4.7</td>\n",
       "      <td>drizzle</td>\n",
       "    </tr>\n",
       "    <tr>\n",
       "      <th>1</th>\n",
       "      <td>2012-01-02</td>\n",
       "      <td>10.9</td>\n",
       "      <td>10.6</td>\n",
       "      <td>2.8</td>\n",
       "      <td>4.5</td>\n",
       "      <td>rain</td>\n",
       "    </tr>\n",
       "    <tr>\n",
       "      <th>2</th>\n",
       "      <td>2012-01-03</td>\n",
       "      <td>0.8</td>\n",
       "      <td>11.7</td>\n",
       "      <td>7.2</td>\n",
       "      <td>2.3</td>\n",
       "      <td>rain</td>\n",
       "    </tr>\n",
       "    <tr>\n",
       "      <th>3</th>\n",
       "      <td>2012-01-04</td>\n",
       "      <td>20.3</td>\n",
       "      <td>12.2</td>\n",
       "      <td>5.6</td>\n",
       "      <td>4.7</td>\n",
       "      <td>rain</td>\n",
       "    </tr>\n",
       "    <tr>\n",
       "      <th>4</th>\n",
       "      <td>2012-01-05</td>\n",
       "      <td>1.3</td>\n",
       "      <td>8.9</td>\n",
       "      <td>2.8</td>\n",
       "      <td>6.1</td>\n",
       "      <td>rain</td>\n",
       "    </tr>\n",
       "    <tr>\n",
       "      <th>5</th>\n",
       "      <td>2012-01-06</td>\n",
       "      <td>2.5</td>\n",
       "      <td>4.4</td>\n",
       "      <td>2.2</td>\n",
       "      <td>2.2</td>\n",
       "      <td>rain</td>\n",
       "    </tr>\n",
       "    <tr>\n",
       "      <th>6</th>\n",
       "      <td>2012-01-07</td>\n",
       "      <td>0.0</td>\n",
       "      <td>7.2</td>\n",
       "      <td>2.8</td>\n",
       "      <td>2.3</td>\n",
       "      <td>rain</td>\n",
       "    </tr>\n",
       "    <tr>\n",
       "      <th>7</th>\n",
       "      <td>2012-01-08</td>\n",
       "      <td>0.0</td>\n",
       "      <td>10.0</td>\n",
       "      <td>2.8</td>\n",
       "      <td>2.0</td>\n",
       "      <td>sun</td>\n",
       "    </tr>\n",
       "    <tr>\n",
       "      <th>8</th>\n",
       "      <td>2012-01-09</td>\n",
       "      <td>4.3</td>\n",
       "      <td>9.4</td>\n",
       "      <td>5.0</td>\n",
       "      <td>3.4</td>\n",
       "      <td>rain</td>\n",
       "    </tr>\n",
       "    <tr>\n",
       "      <th>9</th>\n",
       "      <td>2012-01-10</td>\n",
       "      <td>1.0</td>\n",
       "      <td>6.1</td>\n",
       "      <td>0.6</td>\n",
       "      <td>3.4</td>\n",
       "      <td>rain</td>\n",
       "    </tr>\n",
       "    <tr>\n",
       "      <th>10</th>\n",
       "      <td>2012-01-11</td>\n",
       "      <td>0.0</td>\n",
       "      <td>6.1</td>\n",
       "      <td>-1.1</td>\n",
       "      <td>5.1</td>\n",
       "      <td>sun</td>\n",
       "    </tr>\n",
       "    <tr>\n",
       "      <th>11</th>\n",
       "      <td>2012-01-12</td>\n",
       "      <td>0.0</td>\n",
       "      <td>6.1</td>\n",
       "      <td>-1.7</td>\n",
       "      <td>1.9</td>\n",
       "      <td>sun</td>\n",
       "    </tr>\n",
       "    <tr>\n",
       "      <th>12</th>\n",
       "      <td>2012-01-13</td>\n",
       "      <td>0.0</td>\n",
       "      <td>5.0</td>\n",
       "      <td>-2.8</td>\n",
       "      <td>1.3</td>\n",
       "      <td>sun</td>\n",
       "    </tr>\n",
       "    <tr>\n",
       "      <th>13</th>\n",
       "      <td>2012-01-14</td>\n",
       "      <td>4.1</td>\n",
       "      <td>4.4</td>\n",
       "      <td>0.6</td>\n",
       "      <td>5.3</td>\n",
       "      <td>snow</td>\n",
       "    </tr>\n",
       "    <tr>\n",
       "      <th>14</th>\n",
       "      <td>2012-01-15</td>\n",
       "      <td>5.3</td>\n",
       "      <td>1.1</td>\n",
       "      <td>-3.3</td>\n",
       "      <td>3.2</td>\n",
       "      <td>snow</td>\n",
       "    </tr>\n",
       "    <tr>\n",
       "      <th>15</th>\n",
       "      <td>2012-01-16</td>\n",
       "      <td>2.5</td>\n",
       "      <td>1.7</td>\n",
       "      <td>-2.8</td>\n",
       "      <td>5.0</td>\n",
       "      <td>snow</td>\n",
       "    </tr>\n",
       "    <tr>\n",
       "      <th>16</th>\n",
       "      <td>2012-01-17</td>\n",
       "      <td>8.1</td>\n",
       "      <td>3.3</td>\n",
       "      <td>0.0</td>\n",
       "      <td>5.6</td>\n",
       "      <td>snow</td>\n",
       "    </tr>\n",
       "    <tr>\n",
       "      <th>17</th>\n",
       "      <td>2012-01-18</td>\n",
       "      <td>19.8</td>\n",
       "      <td>0.0</td>\n",
       "      <td>-2.8</td>\n",
       "      <td>5.0</td>\n",
       "      <td>snow</td>\n",
       "    </tr>\n",
       "    <tr>\n",
       "      <th>18</th>\n",
       "      <td>2012-01-19</td>\n",
       "      <td>15.2</td>\n",
       "      <td>-1.1</td>\n",
       "      <td>-2.8</td>\n",
       "      <td>1.6</td>\n",
       "      <td>snow</td>\n",
       "    </tr>\n",
       "    <tr>\n",
       "      <th>19</th>\n",
       "      <td>2012-01-20</td>\n",
       "      <td>13.5</td>\n",
       "      <td>7.2</td>\n",
       "      <td>-1.1</td>\n",
       "      <td>2.3</td>\n",
       "      <td>snow</td>\n",
       "    </tr>\n",
       "  </tbody>\n",
       "</table>\n",
       "</div>"
      ],
      "text/plain": [
       "          date  precipitation  temp_max  temp_min  wind  weather\n",
       "0   2012-01-01            0.0      12.8       5.0   4.7  drizzle\n",
       "1   2012-01-02           10.9      10.6       2.8   4.5     rain\n",
       "2   2012-01-03            0.8      11.7       7.2   2.3     rain\n",
       "3   2012-01-04           20.3      12.2       5.6   4.7     rain\n",
       "4   2012-01-05            1.3       8.9       2.8   6.1     rain\n",
       "5   2012-01-06            2.5       4.4       2.2   2.2     rain\n",
       "6   2012-01-07            0.0       7.2       2.8   2.3     rain\n",
       "7   2012-01-08            0.0      10.0       2.8   2.0      sun\n",
       "8   2012-01-09            4.3       9.4       5.0   3.4     rain\n",
       "9   2012-01-10            1.0       6.1       0.6   3.4     rain\n",
       "10  2012-01-11            0.0       6.1      -1.1   5.1      sun\n",
       "11  2012-01-12            0.0       6.1      -1.7   1.9      sun\n",
       "12  2012-01-13            0.0       5.0      -2.8   1.3      sun\n",
       "13  2012-01-14            4.1       4.4       0.6   5.3     snow\n",
       "14  2012-01-15            5.3       1.1      -3.3   3.2     snow\n",
       "15  2012-01-16            2.5       1.7      -2.8   5.0     snow\n",
       "16  2012-01-17            8.1       3.3       0.0   5.6     snow\n",
       "17  2012-01-18           19.8       0.0      -2.8   5.0     snow\n",
       "18  2012-01-19           15.2      -1.1      -2.8   1.6     snow\n",
       "19  2012-01-20           13.5       7.2      -1.1   2.3     snow"
      ]
     },
     "execution_count": 8,
     "metadata": {},
     "output_type": "execute_result"
    }
   ],
   "source": [
    "data.head(20)"
   ]
  },
  {
   "cell_type": "code",
   "execution_count": 19,
   "id": "31a80b0e",
   "metadata": {},
   "outputs": [
    {
     "name": "stdout",
     "output_type": "stream",
     "text": [
      "<class 'pandas.core.frame.DataFrame'>\n",
      "RangeIndex: 1461 entries, 0 to 1460\n",
      "Data columns (total 6 columns):\n",
      " #   Column         Non-Null Count  Dtype  \n",
      "---  ------         --------------  -----  \n",
      " 0   date           1461 non-null   object \n",
      " 1   precipitation  1461 non-null   float64\n",
      " 2   temp_max       1461 non-null   float64\n",
      " 3   temp_min       1461 non-null   float64\n",
      " 4   wind           1461 non-null   float64\n",
      " 5   weather        1461 non-null   object \n",
      "dtypes: float64(4), object(2)\n",
      "memory usage: 68.6+ KB\n"
     ]
    }
   ],
   "source": [
    "data.info()"
   ]
  },
  {
   "cell_type": "code",
   "execution_count": 20,
   "id": "122f1f5a",
   "metadata": {},
   "outputs": [
    {
     "data": {
      "text/html": [
       "<div>\n",
       "<style scoped>\n",
       "    .dataframe tbody tr th:only-of-type {\n",
       "        vertical-align: middle;\n",
       "    }\n",
       "\n",
       "    .dataframe tbody tr th {\n",
       "        vertical-align: top;\n",
       "    }\n",
       "\n",
       "    .dataframe thead th {\n",
       "        text-align: right;\n",
       "    }\n",
       "</style>\n",
       "<table border=\"1\" class=\"dataframe\">\n",
       "  <thead>\n",
       "    <tr style=\"text-align: right;\">\n",
       "      <th></th>\n",
       "      <th>precipitation</th>\n",
       "      <th>temp_max</th>\n",
       "      <th>temp_min</th>\n",
       "      <th>wind</th>\n",
       "    </tr>\n",
       "  </thead>\n",
       "  <tbody>\n",
       "    <tr>\n",
       "      <th>count</th>\n",
       "      <td>1461.000000</td>\n",
       "      <td>1461.000000</td>\n",
       "      <td>1461.000000</td>\n",
       "      <td>1461.000000</td>\n",
       "    </tr>\n",
       "    <tr>\n",
       "      <th>mean</th>\n",
       "      <td>3.029432</td>\n",
       "      <td>16.439083</td>\n",
       "      <td>8.234771</td>\n",
       "      <td>3.241136</td>\n",
       "    </tr>\n",
       "    <tr>\n",
       "      <th>std</th>\n",
       "      <td>6.680194</td>\n",
       "      <td>7.349758</td>\n",
       "      <td>5.023004</td>\n",
       "      <td>1.437825</td>\n",
       "    </tr>\n",
       "    <tr>\n",
       "      <th>min</th>\n",
       "      <td>0.000000</td>\n",
       "      <td>-1.600000</td>\n",
       "      <td>-7.100000</td>\n",
       "      <td>0.400000</td>\n",
       "    </tr>\n",
       "    <tr>\n",
       "      <th>25%</th>\n",
       "      <td>0.000000</td>\n",
       "      <td>10.600000</td>\n",
       "      <td>4.400000</td>\n",
       "      <td>2.200000</td>\n",
       "    </tr>\n",
       "    <tr>\n",
       "      <th>50%</th>\n",
       "      <td>0.000000</td>\n",
       "      <td>15.600000</td>\n",
       "      <td>8.300000</td>\n",
       "      <td>3.000000</td>\n",
       "    </tr>\n",
       "    <tr>\n",
       "      <th>75%</th>\n",
       "      <td>2.800000</td>\n",
       "      <td>22.200000</td>\n",
       "      <td>12.200000</td>\n",
       "      <td>4.000000</td>\n",
       "    </tr>\n",
       "    <tr>\n",
       "      <th>max</th>\n",
       "      <td>55.900000</td>\n",
       "      <td>35.600000</td>\n",
       "      <td>18.300000</td>\n",
       "      <td>9.500000</td>\n",
       "    </tr>\n",
       "  </tbody>\n",
       "</table>\n",
       "</div>"
      ],
      "text/plain": [
       "       precipitation     temp_max     temp_min         wind\n",
       "count    1461.000000  1461.000000  1461.000000  1461.000000\n",
       "mean        3.029432    16.439083     8.234771     3.241136\n",
       "std         6.680194     7.349758     5.023004     1.437825\n",
       "min         0.000000    -1.600000    -7.100000     0.400000\n",
       "25%         0.000000    10.600000     4.400000     2.200000\n",
       "50%         0.000000    15.600000     8.300000     3.000000\n",
       "75%         2.800000    22.200000    12.200000     4.000000\n",
       "max        55.900000    35.600000    18.300000     9.500000"
      ]
     },
     "execution_count": 20,
     "metadata": {},
     "output_type": "execute_result"
    }
   ],
   "source": [
    "data.describe()"
   ]
  },
  {
   "cell_type": "code",
   "execution_count": 29,
   "id": "9021fd5b",
   "metadata": {},
   "outputs": [
    {
     "data": {
      "text/plain": [
       "date             1461\n",
       "precipitation     111\n",
       "temp_max           67\n",
       "temp_min           55\n",
       "wind               79\n",
       "weather             5\n",
       "dtype: int64"
      ]
     },
     "execution_count": 29,
     "metadata": {},
     "output_type": "execute_result"
    }
   ],
   "source": [
    "data.nunique()"
   ]
  },
  {
   "cell_type": "code",
   "execution_count": 30,
   "id": "5dce2e19",
   "metadata": {},
   "outputs": [
    {
     "data": {
      "text/plain": [
       "array(['drizzle', 'rain', 'sun', 'snow', 'fog'], dtype=object)"
      ]
     },
     "execution_count": 30,
     "metadata": {},
     "output_type": "execute_result"
    }
   ],
   "source": [
    "data['weather'].unique()"
   ]
  },
  {
   "cell_type": "code",
   "execution_count": 10,
   "id": "9a521799",
   "metadata": {},
   "outputs": [
    {
     "data": {
      "text/plain": [
       "date             0\n",
       "precipitation    0\n",
       "temp_max         0\n",
       "temp_min         0\n",
       "wind             0\n",
       "weather          0\n",
       "dtype: int64"
      ]
     },
     "execution_count": 10,
     "metadata": {},
     "output_type": "execute_result"
    }
   ],
   "source": [
    "data.isna().sum()"
   ]
  },
  {
   "cell_type": "code",
   "execution_count": 12,
   "id": "13395ace",
   "metadata": {},
   "outputs": [
    {
     "data": {
      "text/plain": [
       "RangeIndex(start=0, stop=1461, step=1)"
      ]
     },
     "execution_count": 12,
     "metadata": {},
     "output_type": "execute_result"
    }
   ],
   "source": [
    "data.index"
   ]
  },
  {
   "cell_type": "code",
   "execution_count": 14,
   "id": "07be0419",
   "metadata": {},
   "outputs": [
    {
     "data": {
      "text/plain": [
       "Index(['date', 'precipitation', 'temp_max', 'temp_min', 'wind', 'weather'], dtype='object')"
      ]
     },
     "execution_count": 14,
     "metadata": {},
     "output_type": "execute_result"
    }
   ],
   "source": [
    "data.columns"
   ]
  },
  {
   "cell_type": "code",
   "execution_count": 21,
   "id": "d9121779",
   "metadata": {},
   "outputs": [
    {
     "data": {
      "text/plain": [
       "date             1461\n",
       "precipitation    1461\n",
       "temp_max         1461\n",
       "temp_min         1461\n",
       "wind             1461\n",
       "weather          1461\n",
       "dtype: int64"
      ]
     },
     "execution_count": 21,
     "metadata": {},
     "output_type": "execute_result"
    }
   ],
   "source": [
    "data.count()"
   ]
  },
  {
   "cell_type": "code",
   "execution_count": 27,
   "id": "b2eda3d5",
   "metadata": {},
   "outputs": [
    {
     "data": {
      "text/plain": [
       "rain       641\n",
       "sun        640\n",
       "fog        101\n",
       "drizzle     53\n",
       "snow        26\n",
       "Name: weather, dtype: int64"
      ]
     },
     "execution_count": 27,
     "metadata": {},
     "output_type": "execute_result"
    }
   ],
   "source": [
    "data['weather'].value_counts()"
   ]
  },
  {
   "cell_type": "code",
   "execution_count": 32,
   "id": "0af6d976",
   "metadata": {},
   "outputs": [
    {
     "data": {
      "text/plain": [
       "array([4.7, 4.5, 2.3, 6.1, 2.2, 2. , 3.4, 5.1, 1.9, 1.3, 5.3, 3.2, 5. ,\n",
       "       5.6, 1.6, 8.2, 4.8, 3.6, 5.4, 1.4, 3.9, 2.7, 2.6, 4.3, 2.9, 2.4,\n",
       "       3. , 3.1, 1.8, 2.1, 8.1, 7.5, 5.9, 3.5, 6.4, 4.2, 7. , 6.2, 2.5,\n",
       "       2.8, 5.8, 3.8, 5.2, 4.4, 6.8, 4.1, 4. , 8. , 4.6, 1.5, 6.3, 3.3,\n",
       "       3.7, 1.7, 6. , 1.1, 7.3, 6.5, 5.7, 5.5, 4.9, 1. , 1.2, 9.5, 0.6,\n",
       "       7.1, 7.6, 0.9, 0.4, 7.9, 7.2, 0.5, 0.7, 8.8, 0.8, 6.6, 6.9, 6.7,\n",
       "       7.7])"
      ]
     },
     "execution_count": 32,
     "metadata": {},
     "output_type": "execute_result"
    }
   ],
   "source": [
    "data['wind'].unique()"
   ]
  },
  {
   "cell_type": "markdown",
   "id": "b117ac48",
   "metadata": {},
   "source": [
    "# Task#4:Data Visualization"
   ]
  },
  {
   "cell_type": "code",
   "execution_count": 87,
   "id": "e21cdb28",
   "metadata": {},
   "outputs": [],
   "source": [
    "import matplotlib.pyplot as plt\n",
    "import seaborn as sns\n",
    "import plotly.express as px"
   ]
  },
  {
   "cell_type": "code",
   "execution_count": 37,
   "id": "540dee43",
   "metadata": {},
   "outputs": [
    {
     "data": {
      "text/plain": [
       "array([[<AxesSubplot:title={'center':'precipitation'}>,\n",
       "        <AxesSubplot:title={'center':'temp_max'}>],\n",
       "       [<AxesSubplot:title={'center':'temp_min'}>,\n",
       "        <AxesSubplot:title={'center':'wind'}>]], dtype=object)"
      ]
     },
     "execution_count": 37,
     "metadata": {},
     "output_type": "execute_result"
    },
    {
     "data": {
      "image/png": "[encoded data removed]",
      "text/plain": [
       "<Figure size 500x500 with 4 Axes>"
      ]
     },
     "metadata": {},
     "output_type": "display_data"
    }
   ],
   "source": [
    "data.hist(bins=50,figsize=(5,5))"
   ]
  },
  {
   "cell_type": "code",
   "execution_count": 58,
   "id": "23ff3d9a",
   "metadata": {},
   "outputs": [
    {
     "data": {
      "text/plain": [
       "Text(0, 0.5, 'temp_min')"
      ]
     },
     "execution_count": 58,
     "metadata": {},
     "output_type": "execute_result"
    },
    {
     "data": {
      "image/png": "[encoded data removed]",
      "text/plain": [
       "<Figure size 1000x700 with 1 Axes>"
      ]
     },
     "metadata": {},
     "output_type": "display_data"
    }
   ],
   "source": [
    "data.plot(kind='scatter',x='temp_max',y='temp_min',figsize=(10,7),)\n",
    "plt.title(\"Scatter Plot\")\n",
    "plt.xlabel(\"temp_max\")\n",
    "plt.ylabel(\"temp_min\")\n"
   ]
  },
  {
   "cell_type": "code",
   "execution_count": 82,
   "id": "566c7ead",
   "metadata": {},
   "outputs": [
    {
     "data": {
      "image/png": "[encoded data removed]",
      "text/plain": [
       "<Figure size 1000x700 with 1 Axes>"
      ]
     },
     "metadata": {},
     "output_type": "display_data"
    }
   ],
   "source": [
    "plt.figure(figsize=(10,7))\n",
    "plt.title('Weather Prediction')\n",
    "sns.histplot(x='wind',hue='weather',data=data, )\n",
    "plt.show()"
   ]
  },
  {
   "cell_type": "code",
   "execution_count": 112,
   "id": "c9e2b77c",
   "metadata": {},
   "outputs": [
    {
     "data": {
      "application/vnd.plotly.v1+json": {
       "config": {
        "plotlyServerURL": "https://plot.ly"
       },
       "data": [
        {
         "branchvalues": "total",
         "domain": {
          "x": [
           0,
           1
          ],
          "y": [
           0,
           1
          ]
         },
         "hovertemplate": "labels=%{label}<br>wind=%{value}<br>parent=%{parent}<br>id=%{id}<extra></extra>",
         "ids": [
          "drizzle/0.0",
          "fog/0.0",
          "rain/0.0",
          "sun/0.0",
          "rain/0.3",
          "snow/0.3",
          "rain/0.5",
          "snow/0.5",
          "rain/0.8",
          "snow/0.8",
          "rain/1.0",
          "rain/1.3",
          "snow/1.3",
          "rain/1.5",
          "rain/1.8",
          "rain/2.0",
          "rain/2.3",
          "rain/2.5",
          "snow/2.5",
          "rain/2.8",
          "rain/3.0",
          "rain/3.3",
          "snow/3.3",
          "rain/3.6",
          "snow/3.6",
          "rain/3.8",
          "rain/4.1",
          "snow/4.1",
          "rain/4.3",
          "rain/4.6",
          "snow/4.6",
          "rain/4.8",
          "rain/5.1",
          "snow/5.1",
          "rain/5.3",
          "snow/5.3",
          "rain/5.6",
          "snow/5.6",
          "rain/5.8",
          "rain/6.1",
          "rain/6.4",
          "rain/6.6",
          "rain/6.9",
          "rain/7.1",
          "rain/7.4",
          "rain/7.6",
          "rain/7.9",
          "rain/8.1",
          "snow/8.1",
          "rain/8.4",
          "rain/8.6",
          "rain/8.9",
          "rain/9.1",
          "rain/9.4",
          "snow/9.4",
          "rain/9.7",
          "rain/9.9",
          "rain/10.2",
          "rain/10.4",
          "rain/10.7",
          "rain/10.9",
          "rain/11.2",
          "rain/11.4",
          "rain/11.7",
          "rain/11.9",
          "rain/12.2",
          "rain/12.4",
          "rain/12.7",
          "rain/13.0",
          "rain/13.2",
          "rain/13.5",
          "snow/13.5",
          "rain/13.7",
          "snow/13.7",
          "rain/14.0",
          "rain/14.2",
          "rain/14.5",
          "rain/15.0",
          "rain/15.2",
          "snow/15.2",
          "rain/15.7",
          "rain/16.0",
          "rain/16.3",
          "rain/16.5",
          "rain/16.8",
          "rain/17.0",
          "rain/17.3",
          "rain/18.3",
          "rain/18.5",
          "rain/18.8",
          "rain/19.1",
          "rain/19.3",
          "snow/19.3",
          "rain/19.6",
          "snow/19.8",
          "rain/20.3",
          "rain/20.6",
          "rain/20.8",
          "rain/21.3",
          "rain/21.6",
          "rain/21.8",
          "rain/22.1",
          "rain/22.4",
          "snow/22.6",
          "rain/23.1",
          "rain/23.6",
          "snow/23.9",
          "rain/25.4",
          "rain/26.2",
          "rain/26.4",
          "rain/27.4",
          "rain/27.7",
          "rain/28.7",
          "rain/29.5",
          "rain/30.0",
          "rain/30.5",
          "rain/32.0",
          "rain/32.3",
          "rain/32.5",
          "rain/33.0",
          "rain/33.3",
          "rain/33.5",
          "rain/34.3",
          "rain/34.5",
          "rain/35.6",
          "rain/38.4",
          "rain/39.1",
          "rain/43.4",
          "rain/46.7",
          "rain/47.2",
          "rain/54.1",
          "rain/55.9",
          "drizzle",
          "fog",
          "rain",
          "snow",
          "sun"
         ],
         "labels": [
          "0.0",
          "0.0",
          "0.0",
          "0.0",
          "0.3",
          "0.3",
          "0.5",
          "0.5",
          "0.8",
          "0.8",
          "1.0",
          "1.3",
          "1.3",
          "1.5",
          "1.8",
          "2.0",
          "2.3",
          "2.5",
          "2.5",
          "2.8",
          "3.0",
          "3.3",
          "3.3",
          "3.6",
          "3.6",
          "3.8",
          "4.1",
          "4.1",
          "4.3",
          "4.6",
          "4.6",
          "4.8",
          "5.1",
          "5.1",
          "5.3",
          "5.3",
          "5.6",
          "5.6",
          "5.8",
          "6.1",
          "6.4",
          "6.6",
          "6.9",
          "7.1",
          "7.4",
          "7.6",
          "7.9",
          "8.1",
          "8.1",
          "8.4",
          "8.6",
          "8.9",
          "9.1",
          "9.4",
          "9.4",
          "9.7",
          "9.9",
          "10.2",
          "10.4",
          "10.7",
          "10.9",
          "11.2",
          "11.4",
          "11.7",
          "11.9",
          "12.2",
          "12.4",
          "12.7",
          "13.0",
          "13.2",
          "13.5",
          "13.5",
          "13.7",
          "13.7",
          "14.0",
          "14.2",
          "14.5",
          "15.0",
          "15.2",
          "15.2",
          "15.7",
          "16.0",
          "16.3",
          "16.5",
          "16.8",
          "17.0",
          "17.3",
          "18.3",
          "18.5",
          "18.8",
          "19.1",
          "19.3",
          "19.3",
          "19.6",
          "19.8",
          "20.3",
          "20.6",
          "20.8",
          "21.3",
          "21.6",
          "21.8",
          "22.1",
          "22.4",
          "22.6",
          "23.1",
          "23.6",
          "23.9",
          "25.4",
          "26.2",
          "26.4",
          "27.4",
          "27.7",
          "28.7",
          "29.5",
          "30.0",
          "30.5",
          "32.0",
          "32.3",
          "32.5",
          "33.0",
          "33.3",
          "33.5",
          "34.3",
          "34.5",
          "35.6",
          "38.4",
          "39.1",
          "43.4",
          "46.7",
          "47.2",
          "54.1",
          "55.9",
          "drizzle",
          "fog",
          "rain",
          "snow",
          "sun"
         ],
         "name": "",
         "parents": [
          "drizzle",
          "fog",
          "rain",
          "sun",
          "rain",
          "snow",
          "rain",
          "snow",
          "rain",
          "snow",
          "rain",
          "rain",
          "snow",
          "rain",
          "rain",
          "rain",
          "rain",
          "rain",
          "snow",
          "rain",
          "rain",
          "rain",
          "snow",
          "rain",
          "snow",
          "rain",
          "rain",
          "snow",
          "rain",
          "rain",
          "snow",
          "rain",
          "rain",
          "snow",
          "rain",
          "snow",
          "rain",
          "snow",
          "rain",
          "rain",
          "rain",
          "rain",
          "rain",
          "rain",
          "rain",
          "rain",
          "rain",
          "rain",
          "snow",
          "rain",
          "rain",
          "rain",
          "rain",
          "rain",
          "snow",
          "rain",
          "rain",
          "rain",
          "rain",
          "rain",
          "rain",
          "rain",
          "rain",
          "rain",
          "rain",
          "rain",
          "rain",
          "rain",
          "rain",
          "rain",
          "rain",
          "snow",
          "rain",
          "snow",
          "rain",
          "rain",
          "rain",
          "rain",
          "rain",
          "snow",
          "rain",
          "rain",
          "rain",
          "rain",
          "rain",
          "rain",
          "rain",
          "rain",
          "rain",
          "rain",
          "rain",
          "rain",
          "snow",
          "rain",
          "snow",
          "rain",
          "rain",
          "rain",
          "rain",
          "rain",
          "rain",
          "rain",
          "rain",
          "snow",
          "rain",
          "rain",
          "snow",
          "rain",
          "rain",
          "rain",
          "rain",
          "rain",
          "rain",
          "rain",
          "rain",
          "rain",
          "rain",
          "rain",
          "rain",
          "rain",
          "rain",
          "rain",
          "rain",
          "rain",
          "rain",
          "rain",
          "rain",
          "rain",
          "rain",
          "rain",
          "rain",
          "rain",
          "",
          "",
          "",
          "",
          ""
         ],
         "type": "sunburst",
         "values": [
          125.5,
          250.6,
          139,
          1892.1,
          148.8,
          2.1,
          130.6,
          2.7,
          62.1,
          7,
          87.5,
          62.5,
          3.4,
          87.39999999999999,
          62.9,
          72.5,
          50.4,
          36,
          5,
          17.6,
          81,
          50.699999999999996,
          5.3,
          41.3,
          9.5,
          28.700000000000003,
          61,
          5.3,
          49.9,
          38.5,
          1.8,
          23.599999999999998,
          20,
          4.6,
          18.5,
          8.3,
          19.7,
          3.7,
          26.799999999999997,
          41.9,
          17.1,
          14.6,
          34.4,
          8.8,
          13.6,
          9.7,
          21.200000000000003,
          33,
          10.5,
          12,
          25.8,
          15.9,
          5.2,
          40.1,
          9.1,
          18.5,
          22.799999999999997,
          9.2,
          3.4,
          11.7,
          26,
          11.4,
          4.9,
          11.6,
          9.2,
          5.1,
          5.3,
          28.8,
          17.400000000000002,
          7.1,
          14.5,
          6.5,
          21.7,
          5.8,
          12.7,
          10.4,
          8.2,
          1.9,
          17.9,
          1.6,
          5.9,
          13.1,
          6.3,
          10.8,
          7.1,
          9.6,
          7.9,
          15.7,
          25.1,
          2.2,
          5.7,
          13,
          6.2,
          11.7,
          5,
          7.4,
          8.7,
          2,
          18,
          6.1,
          6,
          3.9,
          4.1,
          5.5,
          5.1,
          4.6,
          5.8,
          3.2,
          17.299999999999997,
          7.9,
          12.1,
          10.8,
          4.7,
          8,
          7.2,
          5.2,
          7.4,
          2.7,
          5.8,
          7.2,
          3.4,
          6.5,
          5.8,
          2.8,
          4.6,
          5.1,
          3.9,
          6,
          3.9,
          4.5,
          12.2,
          4.2,
          125.5,
          250.6,
          2352.4,
          114.7,
          1892.1
         ]
        }
       ],
       "layout": {
        "height": 1000,
        "legend": {
         "tracegroupgap": 0
        },
        "margin": {
         "t": 60
        },
        "template": {
         "data": {
          "bar": [
           {
            "error_x": {
             "color": "#2a3f5f"
            },
            "error_y": {
             "color": "#2a3f5f"
            },
            "marker": {
             "line": {
              "color": "#E5ECF6",
              "width": 0.5
             },
             "pattern": {
              "fillmode": "overlay",
              "size": 10,
              "solidity": 0.2
             }
            },
            "type": "bar"
           }
          ],
          "barpolar": [
           {
            "marker": {
             "line": {
              "color": "#E5ECF6",
              "width": 0.5
             },
             "pattern": {
              "fillmode": "overlay",
              "size": 10,
              "solidity": 0.2
             }
            },
            "type": "barpolar"
           }
          ],
          "carpet": [
           {
            "aaxis": {
             "endlinecolor": "#2a3f5f",
             "gridcolor": "white",
             "linecolor": "white",
             "minorgridcolor": "white",
             "startlinecolor": "#2a3f5f"
            },
            "baxis": {
             "endlinecolor": "#2a3f5f",
             "gridcolor": "white",
             "linecolor": "white",
             "minorgridcolor": "white",
             "startlinecolor": "#2a3f5f"
            },
            "type": "carpet"
           }
          ],
          "choropleth": [
           {
            "colorbar": {
             "outlinewidth": 0,
             "ticks": ""
            },
            "type": "choropleth"
           }
          ],
          "contour": [
           {
            "colorbar": {
             "outlinewidth": 0,
             "ticks": ""
            },
            "colorscale": [
             [
              0,
              "#0d0887"
             ],
             [
              0.1111111111111111,
              "#46039f"
             ],
             [
              0.2222222222222222,
              "#7201a8"
             ],
             [
              0.3333333333333333,
              "#9c179e"
             ],
             [
              0.4444444444444444,
              "#bd3786"
             ],
             [
              0.5555555555555556,
              "#d8576b"
             ],
             [
              0.6666666666666666,
              "#ed7953"
             ],
             [
              0.7777777777777778,
              "#fb9f3a"
             ],
             [
              0.8888888888888888,
              "#fdca26"
             ],
             [
              1,
              "#f0f921"
             ]
            ],
            "type": "contour"
           }
          ],
          "contourcarpet": [
           {
            "colorbar": {
             "outlinewidth": 0,
             "ticks": ""
            },
            "type": "contourcarpet"
           }
          ],
          "heatmap": [
           {
            "colorbar": {
             "outlinewidth": 0,
             "ticks": ""
            },
            "colorscale": [
             [
              0,
              "#0d0887"
             ],
             [
              0.1111111111111111,
              "#46039f"
             ],
             [
              0.2222222222222222,
              "#7201a8"
             ],
             [
              0.3333333333333333,
              "#9c179e"
             ],
             [
              0.4444444444444444,
              "#bd3786"
             ],
             [
              0.5555555555555556,
              "#d8576b"
             ],
             [
              0.6666666666666666,
              "#ed7953"
             ],
             [
              0.7777777777777778,
              "#fb9f3a"
             ],
             [
              0.8888888888888888,
              "#fdca26"
             ],
             [
              1,
              "#f0f921"
             ]
            ],
            "type": "heatmap"
           }
          ],
          "heatmapgl": [
           {
            "colorbar": {
             "outlinewidth": 0,
             "ticks": ""
            },
            "colorscale": [
             [
              0,
              "#0d0887"
             ],
             [
              0.1111111111111111,
              "#46039f"
             ],
             [
              0.2222222222222222,
              "#7201a8"
             ],
             [
              0.3333333333333333,
              "#9c179e"
             ],
             [
              0.4444444444444444,
              "#bd3786"
             ],
             [
              0.5555555555555556,
              "#d8576b"
             ],
             [
              0.6666666666666666,
              "#ed7953"
             ],
             [
              0.7777777777777778,
              "#fb9f3a"
             ],
             [
              0.8888888888888888,
              "#fdca26"
             ],
             [
              1,
              "#f0f921"
             ]
            ],
            "type": "heatmapgl"
           }
          ],
          "histogram": [
           {
            "marker": {
             "pattern": {
              "fillmode": "overlay",
              "size": 10,
              "solidity": 0.2
             }
            },
            "type": "histogram"
           }
          ],
          "histogram2d": [
           {
            "colorbar": {
             "outlinewidth": 0,
             "ticks": ""
            },
            "colorscale": [
             [
              0,
              "#0d0887"
             ],
             [
              0.1111111111111111,
              "#46039f"
             ],
             [
              0.2222222222222222,
              "#7201a8"
             ],
             [
              0.3333333333333333,
              "#9c179e"
             ],
             [
              0.4444444444444444,
              "#bd3786"
             ],
             [
              0.5555555555555556,
              "#d8576b"
             ],
             [
              0.6666666666666666,
              "#ed7953"
             ],
             [
              0.7777777777777778,
              "#fb9f3a"
             ],
             [
              0.8888888888888888,
              "#fdca26"
             ],
             [
              1,
              "#f0f921"
             ]
            ],
            "type": "histogram2d"
           }
          ],
          "histogram2dcontour": [
           {
            "colorbar": {
             "outlinewidth": 0,
             "ticks": ""
            },
            "colorscale": [
             [
              0,
              "#0d0887"
             ],
             [
              0.1111111111111111,
              "#46039f"
             ],
             [
              0.2222222222222222,
              "#7201a8"
             ],
             [
              0.3333333333333333,
              "#9c179e"
             ],
             [
              0.4444444444444444,
              "#bd3786"
             ],
             [
              0.5555555555555556,
              "#d8576b"
             ],
             [
              0.6666666666666666,
              "#ed7953"
             ],
             [
              0.7777777777777778,
              "#fb9f3a"
             ],
             [
              0.8888888888888888,
              "#fdca26"
             ],
             [
              1,
              "#f0f921"
             ]
            ],
            "type": "histogram2dcontour"
           }
          ],
          "mesh3d": [
           {
            "colorbar": {
             "outlinewidth": 0,
             "ticks": ""
            },
            "type": "mesh3d"
           }
          ],
          "parcoords": [
           {
            "line": {
             "colorbar": {
              "outlinewidth": 0,
              "ticks": ""
             }
            },
            "type": "parcoords"
           }
          ],
          "pie": [
           {
            "automargin": true,
            "type": "pie"
           }
          ],
          "scatter": [
           {
            "fillpattern": {
             "fillmode": "overlay",
             "size": 10,
             "solidity": 0.2
            },
            "type": "scatter"
           }
          ],
          "scatter3d": [
           {
            "line": {
             "colorbar": {
              "outlinewidth": 0,
              "ticks": ""
             }
            },
            "marker": {
             "colorbar": {
              "outlinewidth": 0,
              "ticks": ""
             }
            },
            "type": "scatter3d"
           }
          ],
          "scattercarpet": [
           {
            "marker": {
             "colorbar": {
              "outlinewidth": 0,
              "ticks": ""
             }
            },
            "type": "scattercarpet"
           }
          ],
          "scattergeo": [
           {
            "marker": {
             "colorbar": {
              "outlinewidth": 0,
              "ticks": ""
             }
            },
            "type": "scattergeo"
           }
          ],
          "scattergl": [
           {
            "marker": {
             "colorbar": {
              "outlinewidth": 0,
              "ticks": ""
             }
            },
            "type": "scattergl"
           }
          ],
          "scattermapbox": [
           {
            "marker": {
             "colorbar": {
              "outlinewidth": 0,
              "ticks": ""
             }
            },
            "type": "scattermapbox"
           }
          ],
          "scatterpolar": [
           {
            "marker": {
             "colorbar": {
              "outlinewidth": 0,
              "ticks": ""
             }
            },
            "type": "scatterpolar"
           }
          ],
          "scatterpolargl": [
           {
            "marker": {
             "colorbar": {
              "outlinewidth": 0,
              "ticks": ""
             }
            },
            "type": "scatterpolargl"
           }
          ],
          "scatterternary": [
           {
            "marker": {
             "colorbar": {
              "outlinewidth": 0,
              "ticks": ""
             }
            },
            "type": "scatterternary"
           }
          ],
          "surface": [
           {
            "colorbar": {
             "outlinewidth": 0,
             "ticks": ""
            },
            "colorscale": [
             [
              0,
              "#0d0887"
             ],
             [
              0.1111111111111111,
              "#46039f"
             ],
             [
              0.2222222222222222,
              "#7201a8"
             ],
             [
              0.3333333333333333,
              "#9c179e"
             ],
             [
              0.4444444444444444,
              "#bd3786"
             ],
             [
              0.5555555555555556,
              "#d8576b"
             ],
             [
              0.6666666666666666,
              "#ed7953"
             ],
             [
              0.7777777777777778,
              "#fb9f3a"
             ],
             [
              0.8888888888888888,
              "#fdca26"
             ],
             [
              1,
              "#f0f921"
             ]
            ],
            "type": "surface"
           }
          ],
          "table": [
           {
            "cells": {
             "fill": {
              "color": "#EBF0F8"
             },
             "line": {
              "color": "white"
             }
            },
            "header": {
             "fill": {
              "color": "#C8D4E3"
             },
             "line": {
              "color": "white"
             }
            },
            "type": "table"
           }
          ]
         },
         "layout": {
          "annotationdefaults": {
           "arrowcolor": "#2a3f5f",
           "arrowhead": 0,
           "arrowwidth": 1
          },
          "autotypenumbers": "strict",
          "coloraxis": {
           "colorbar": {
            "outlinewidth": 0,
            "ticks": ""
           }
          },
          "colorscale": {
           "diverging": [
            [
             0,
             "#8e0152"
            ],
            [
             0.1,
             "#c51b7d"
            ],
            [
             0.2,
             "#de77ae"
            ],
            [
             0.3,
             "#f1b6da"
            ],
            [
             0.4,
             "#fde0ef"
            ],
            [
             0.5,
             "#f7f7f7"
            ],
            [
             0.6,
             "#e6f5d0"
            ],
            [
             0.7,
             "#b8e186"
            ],
            [
             0.8,
             "#7fbc41"
            ],
            [
             0.9,
             "#4d9221"
            ],
            [
             1,
             "#276419"
            ]
           ],
           "sequential": [
            [
             0,
             "#0d0887"
            ],
            [
             0.1111111111111111,
             "#46039f"
            ],
            [
             0.2222222222222222,
             "#7201a8"
            ],
            [
             0.3333333333333333,
             "#9c179e"
            ],
            [
             0.4444444444444444,
             "#bd3786"
            ],
            [
             0.5555555555555556,
             "#d8576b"
            ],
            [
             0.6666666666666666,
             "#ed7953"
            ],
            [
             0.7777777777777778,
             "#fb9f3a"
            ],
            [
             0.8888888888888888,
             "#fdca26"
            ],
            [
             1,
             "#f0f921"
            ]
           ],
           "sequentialminus": [
            [
             0,
             "#0d0887"
            ],
            [
             0.1111111111111111,
             "#46039f"
            ],
            [
             0.2222222222222222,
             "#7201a8"
            ],
            [
             0.3333333333333333,
             "#9c179e"
            ],
            [
             0.4444444444444444,
             "#bd3786"
            ],
            [
             0.5555555555555556,
             "#d8576b"
            ],
            [
             0.6666666666666666,
             "#ed7953"
            ],
            [
             0.7777777777777778,
             "#fb9f3a"
            ],
            [
             0.8888888888888888,
             "#fdca26"
            ],
            [
             1,
             "#f0f921"
            ]
           ]
          },
          "colorway": [
           "#636efa",
           "#EF553B",
           "#00cc96",
           "#ab63fa",
           "#FFA15A",
           "#19d3f3",
           "#FF6692",
           "#B6E880",
           "#FF97FF",
           "#FECB52"
          ],
          "font": {
           "color": "#2a3f5f"
          },
          "geo": {
           "bgcolor": "white",
           "lakecolor": "white",
           "landcolor": "#E5ECF6",
           "showlakes": true,
           "showland": true,
           "subunitcolor": "white"
          },
          "hoverlabel": {
           "align": "left"
          },
          "hovermode": "closest",
          "mapbox": {
           "style": "light"
          },
          "paper_bgcolor": "white",
          "plot_bgcolor": "#E5ECF6",
          "polar": {
           "angularaxis": {
            "gridcolor": "white",
            "linecolor": "white",
            "ticks": ""
           },
           "bgcolor": "#E5ECF6",
           "radialaxis": {
            "gridcolor": "white",
            "linecolor": "white",
            "ticks": ""
           }
          },
          "scene": {
           "xaxis": {
            "backgroundcolor": "#E5ECF6",
            "gridcolor": "white",
            "gridwidth": 2,
            "linecolor": "white",
            "showbackground": true,
            "ticks": "",
            "zerolinecolor": "white"
           },
           "yaxis": {
            "backgroundcolor": "#E5ECF6",
            "gridcolor": "white",
            "gridwidth": 2,
            "linecolor": "white",
            "showbackground": true,
            "ticks": "",
            "zerolinecolor": "white"
           },
           "zaxis": {
            "backgroundcolor": "#E5ECF6",
            "gridcolor": "white",
            "gridwidth": 2,
            "linecolor": "white",
            "showbackground": true,
            "ticks": "",
            "zerolinecolor": "white"
           }
          },
          "shapedefaults": {
           "line": {
            "color": "#2a3f5f"
           }
          },
          "ternary": {
           "aaxis": {
            "gridcolor": "white",
            "linecolor": "white",
            "ticks": ""
           },
           "baxis": {
            "gridcolor": "white",
            "linecolor": "white",
            "ticks": ""
           },
           "bgcolor": "#E5ECF6",
           "caxis": {
            "gridcolor": "white",
            "linecolor": "white",
            "ticks": ""
           }
          },
          "title": {
           "x": 0.05
          },
          "xaxis": {
           "automargin": true,
           "gridcolor": "white",
           "linecolor": "white",
           "ticks": "",
           "title": {
            "standoff": 15
           },
           "zerolinecolor": "white",
           "zerolinewidth": 2
          },
          "yaxis": {
           "automargin": true,
           "gridcolor": "white",
           "linecolor": "white",
           "ticks": "",
           "title": {
            "standoff": 15
           },
           "zerolinecolor": "white",
           "zerolinewidth": 2
          }
         }
        },
        "width": 1000
       }
      },
      "text/html": [
       "<div>                            <div id=\"241a7a91-a464-4e51-9ba0-bd8460c5c75b\" class=\"plotly-graph-div\" style=\"height:1000px; width:1000px;\"></div>            <script type=\"text/javascript\">                require([\"plotly\"], function(Plotly) {                    window.PLOTLYENV=window.PLOTLYENV || {};                                    if (document.getElementById(\"241a7a91-a464-4e51-9ba0-bd8460c5c75b\")) {                    Plotly.newPlot(                        \"241a7a91-a464-4e51-9ba0-bd8460c5c75b\",                        [{\"branchvalues\":\"total\",\"domain\":{\"x\":[0.0,1.0],\"y\":[0.0,1.0]},\"hovertemplate\":\"labels=%{label}<br>wind=%{value}<br>parent=%{parent}<br>id=%{id}<extra></extra>\",\"ids\":[\"drizzle/0.0\",\"fog/0.0\",\"rain/0.0\",\"sun/0.0\",\"rain/0.3\",\"snow/0.3\",\"rain/0.5\",\"snow/0.5\",\"rain/0.8\",\"snow/0.8\",\"rain/1.0\",\"rain/1.3\",\"snow/1.3\",\"rain/1.5\",\"rain/1.8\",\"rain/2.0\",\"rain/2.3\",\"rain/2.5\",\"snow/2.5\",\"rain/2.8\",\"rain/3.0\",\"rain/3.3\",\"snow/3.3\",\"rain/3.6\",\"snow/3.6\",\"rain/3.8\",\"rain/4.1\",\"snow/4.1\",\"rain/4.3\",\"rain/4.6\",\"snow/4.6\",\"rain/4.8\",\"rain/5.1\",\"snow/5.1\",\"rain/5.3\",\"snow/5.3\",\"rain/5.6\",\"snow/5.6\",\"rain/5.8\",\"rain/6.1\",\"rain/6.4\",\"rain/6.6\",\"rain/6.9\",\"rain/7.1\",\"rain/7.4\",\"rain/7.6\",\"rain/7.9\",\"rain/8.1\",\"snow/8.1\",\"rain/8.4\",\"rain/8.6\",\"rain/8.9\",\"rain/9.1\",\"rain/9.4\",\"snow/9.4\",\"rain/9.7\",\"rain/9.9\",\"rain/10.2\",\"rain/10.4\",\"rain/10.7\",\"rain/10.9\",\"rain/11.2\",\"rain/11.4\",\"rain/11.7\",\"rain/11.9\",\"rain/12.2\",\"rain/12.4\",\"rain/12.7\",\"rain/13.0\",\"rain/13.2\",\"rain/13.5\",\"snow/13.5\",\"rain/13.7\",\"snow/13.7\",\"rain/14.0\",\"rain/14.2\",\"rain/14.5\",\"rain/15.0\",\"rain/15.2\",\"snow/15.2\",\"rain/15.7\",\"rain/16.0\",\"rain/16.3\",\"rain/16.5\",\"rain/16.8\",\"rain/17.0\",\"rain/17.3\",\"rain/18.3\",\"rain/18.5\",\"rain/18.8\",\"rain/19.1\",\"rain/19.3\",\"snow/19.3\",\"rain/19.6\",\"snow/19.8\",\"rain/20.3\",\"rain/20.6\",\"rain/20.8\",\"rain/21.3\",\"rain/21.6\",\"rain/21.8\",\"rain/22.1\",\"rain/22.4\",\"snow/22.6\",\"rain/23.1\",\"rain/23.6\",\"snow/23.9\",\"rain/25.4\",\"rain/26.2\",\"rain/26.4\",\"rain/27.4\",\"rain/27.7\",\"rain/28.7\",\"rain/29.5\",\"rain/30.0\",\"rain/30.5\",\"rain/32.0\",\"rain/32.3\",\"rain/32.5\",\"rain/33.0\",\"rain/33.3\",\"rain/33.5\",\"rain/34.3\",\"rain/34.5\",\"rain/35.6\",\"rain/38.4\",\"rain/39.1\",\"rain/43.4\",\"rain/46.7\",\"rain/47.2\",\"rain/54.1\",\"rain/55.9\",\"drizzle\",\"fog\",\"rain\",\"snow\",\"sun\"],\"labels\":[\"0.0\",\"0.0\",\"0.0\",\"0.0\",\"0.3\",\"0.3\",\"0.5\",\"0.5\",\"0.8\",\"0.8\",\"1.0\",\"1.3\",\"1.3\",\"1.5\",\"1.8\",\"2.0\",\"2.3\",\"2.5\",\"2.5\",\"2.8\",\"3.0\",\"3.3\",\"3.3\",\"3.6\",\"3.6\",\"3.8\",\"4.1\",\"4.1\",\"4.3\",\"4.6\",\"4.6\",\"4.8\",\"5.1\",\"5.1\",\"5.3\",\"5.3\",\"5.6\",\"5.6\",\"5.8\",\"6.1\",\"6.4\",\"6.6\",\"6.9\",\"7.1\",\"7.4\",\"7.6\",\"7.9\",\"8.1\",\"8.1\",\"8.4\",\"8.6\",\"8.9\",\"9.1\",\"9.4\",\"9.4\",\"9.7\",\"9.9\",\"10.2\",\"10.4\",\"10.7\",\"10.9\",\"11.2\",\"11.4\",\"11.7\",\"11.9\",\"12.2\",\"12.4\",\"12.7\",\"13.0\",\"13.2\",\"13.5\",\"13.5\",\"13.7\",\"13.7\",\"14.0\",\"14.2\",\"14.5\",\"15.0\",\"15.2\",\"15.2\",\"15.7\",\"16.0\",\"16.3\",\"16.5\",\"16.8\",\"17.0\",\"17.3\",\"18.3\",\"18.5\",\"18.8\",\"19.1\",\"19.3\",\"19.3\",\"19.6\",\"19.8\",\"20.3\",\"20.6\",\"20.8\",\"21.3\",\"21.6\",\"21.8\",\"22.1\",\"22.4\",\"22.6\",\"23.1\",\"23.6\",\"23.9\",\"25.4\",\"26.2\",\"26.4\",\"27.4\",\"27.7\",\"28.7\",\"29.5\",\"30.0\",\"30.5\",\"32.0\",\"32.3\",\"32.5\",\"33.0\",\"33.3\",\"33.5\",\"34.3\",\"34.5\",\"35.6\",\"38.4\",\"39.1\",\"43.4\",\"46.7\",\"47.2\",\"54.1\",\"55.9\",\"drizzle\",\"fog\",\"rain\",\"snow\",\"sun\"],\"name\":\"\",\"parents\":[\"drizzle\",\"fog\",\"rain\",\"sun\",\"rain\",\"snow\",\"rain\",\"snow\",\"rain\",\"snow\",\"rain\",\"rain\",\"snow\",\"rain\",\"rain\",\"rain\",\"rain\",\"rain\",\"snow\",\"rain\",\"rain\",\"rain\",\"snow\",\"rain\",\"snow\",\"rain\",\"rain\",\"snow\",\"rain\",\"rain\",\"snow\",\"rain\",\"rain\",\"snow\",\"rain\",\"snow\",\"rain\",\"snow\",\"rain\",\"rain\",\"rain\",\"rain\",\"rain\",\"rain\",\"rain\",\"rain\",\"rain\",\"rain\",\"snow\",\"rain\",\"rain\",\"rain\",\"rain\",\"rain\",\"snow\",\"rain\",\"rain\",\"rain\",\"rain\",\"rain\",\"rain\",\"rain\",\"rain\",\"rain\",\"rain\",\"rain\",\"rain\",\"rain\",\"rain\",\"rain\",\"rain\",\"snow\",\"rain\",\"snow\",\"rain\",\"rain\",\"rain\",\"rain\",\"rain\",\"snow\",\"rain\",\"rain\",\"rain\",\"rain\",\"rain\",\"rain\",\"rain\",\"rain\",\"rain\",\"rain\",\"rain\",\"rain\",\"snow\",\"rain\",\"snow\",\"rain\",\"rain\",\"rain\",\"rain\",\"rain\",\"rain\",\"rain\",\"rain\",\"snow\",\"rain\",\"rain\",\"snow\",\"rain\",\"rain\",\"rain\",\"rain\",\"rain\",\"rain\",\"rain\",\"rain\",\"rain\",\"rain\",\"rain\",\"rain\",\"rain\",\"rain\",\"rain\",\"rain\",\"rain\",\"rain\",\"rain\",\"rain\",\"rain\",\"rain\",\"rain\",\"rain\",\"rain\",\"\",\"\",\"\",\"\",\"\"],\"values\":[125.5,250.6,139.0,1892.1,148.8,2.1,130.6,2.7,62.1,7.0,87.5,62.5,3.4,87.39999999999999,62.9,72.5,50.4,36.0,5.0,17.6,81.0,50.699999999999996,5.3,41.3,9.5,28.700000000000003,61.0,5.3,49.9,38.5,1.8,23.599999999999998,20.0,4.6,18.5,8.3,19.7,3.7,26.799999999999997,41.9,17.1,14.6,34.4,8.8,13.6,9.7,21.200000000000003,33.0,10.5,12.0,25.8,15.9,5.2,40.1,9.1,18.5,22.799999999999997,9.2,3.4,11.7,26.0,11.4,4.9,11.6,9.2,5.1,5.3,28.8,17.400000000000002,7.1,14.5,6.5,21.7,5.8,12.7,10.4,8.2,1.9,17.9,1.6,5.9,13.1,6.3,10.8,7.1,9.6,7.9,15.7,25.1,2.2,5.7,13.0,6.2,11.7,5.0,7.4,8.7,2.0,18.0,6.1,6.0,3.9,4.1,5.5,5.1,4.6,5.8,3.2,17.299999999999997,7.9,12.1,10.8,4.7,8.0,7.2,5.2,7.4,2.7,5.8,7.2,3.4,6.5,5.8,2.8,4.6,5.1,3.9,6.0,3.9,4.5,12.2,4.2,125.5,250.6,2352.4,114.7,1892.1],\"type\":\"sunburst\"}],                        {\"template\":{\"data\":{\"histogram2dcontour\":[{\"type\":\"histogram2dcontour\",\"colorbar\":{\"outlinewidth\":0,\"ticks\":\"\"},\"colorscale\":[[0.0,\"#0d0887\"],[0.1111111111111111,\"#46039f\"],[0.2222222222222222,\"#7201a8\"],[0.3333333333333333,\"#9c179e\"],[0.4444444444444444,\"#bd3786\"],[0.5555555555555556,\"#d8576b\"],[0.6666666666666666,\"#ed7953\"],[0.7777777777777778,\"#fb9f3a\"],[0.8888888888888888,\"#fdca26\"],[1.0,\"#f0f921\"]]}],\"choropleth\":[{\"type\":\"choropleth\",\"colorbar\":{\"outlinewidth\":0,\"ticks\":\"\"}}],\"histogram2d\":[{\"type\":\"histogram2d\",\"colorbar\":{\"outlinewidth\":0,\"ticks\":\"\"},\"colorscale\":[[0.0,\"#0d0887\"],[0.1111111111111111,\"#46039f\"],[0.2222222222222222,\"#7201a8\"],[0.3333333333333333,\"#9c179e\"],[0.4444444444444444,\"#bd3786\"],[0.5555555555555556,\"#d8576b\"],[0.6666666666666666,\"#ed7953\"],[0.7777777777777778,\"#fb9f3a\"],[0.8888888888888888,\"#fdca26\"],[1.0,\"#f0f921\"]]}],\"heatmap\":[{\"type\":\"heatmap\",\"colorbar\":{\"outlinewidth\":0,\"ticks\":\"\"},\"colorscale\":[[0.0,\"#0d0887\"],[0.1111111111111111,\"#46039f\"],[0.2222222222222222,\"#7201a8\"],[0.3333333333333333,\"#9c179e\"],[0.4444444444444444,\"#bd3786\"],[0.5555555555555556,\"#d8576b\"],[0.6666666666666666,\"#ed7953\"],[0.7777777777777778,\"#fb9f3a\"],[0.8888888888888888,\"#fdca26\"],[1.0,\"#f0f921\"]]}],\"heatmapgl\":[{\"type\":\"heatmapgl\",\"colorbar\":{\"outlinewidth\":0,\"ticks\":\"\"},\"colorscale\":[[0.0,\"#0d0887\"],[0.1111111111111111,\"#46039f\"],[0.2222222222222222,\"#7201a8\"],[0.3333333333333333,\"#9c179e\"],[0.4444444444444444,\"#bd3786\"],[0.5555555555555556,\"#d8576b\"],[0.6666666666666666,\"#ed7953\"],[0.7777777777777778,\"#fb9f3a\"],[0.8888888888888888,\"#fdca26\"],[1.0,\"#f0f921\"]]}],\"contourcarpet\":[{\"type\":\"contourcarpet\",\"colorbar\":{\"outlinewidth\":0,\"ticks\":\"\"}}],\"contour\":[{\"type\":\"contour\",\"colorbar\":{\"outlinewidth\":0,\"ticks\":\"\"},\"colorscale\":[[0.0,\"#0d0887\"],[0.1111111111111111,\"#46039f\"],[0.2222222222222222,\"#7201a8\"],[0.3333333333333333,\"#9c179e\"],[0.4444444444444444,\"#bd3786\"],[0.5555555555555556,\"#d8576b\"],[0.6666666666666666,\"#ed7953\"],[0.7777777777777778,\"#fb9f3a\"],[0.8888888888888888,\"#fdca26\"],[1.0,\"#f0f921\"]]}],\"surface\":[{\"type\":\"surface\",\"colorbar\":{\"outlinewidth\":0,\"ticks\":\"\"},\"colorscale\":[[0.0,\"#0d0887\"],[0.1111111111111111,\"#46039f\"],[0.2222222222222222,\"#7201a8\"],[0.3333333333333333,\"#9c179e\"],[0.4444444444444444,\"#bd3786\"],[0.5555555555555556,\"#d8576b\"],[0.6666666666666666,\"#ed7953\"],[0.7777777777777778,\"#fb9f3a\"],[0.8888888888888888,\"#fdca26\"],[1.0,\"#f0f921\"]]}],\"mesh3d\":[{\"type\":\"mesh3d\",\"colorbar\":{\"outlinewidth\":0,\"ticks\":\"\"}}],\"scatter\":[{\"fillpattern\":{\"fillmode\":\"overlay\",\"size\":10,\"solidity\":0.2},\"type\":\"scatter\"}],\"parcoords\":[{\"type\":\"parcoords\",\"line\":{\"colorbar\":{\"outlinewidth\":0,\"ticks\":\"\"}}}],\"scatterpolargl\":[{\"type\":\"scatterpolargl\",\"marker\":{\"colorbar\":{\"outlinewidth\":0,\"ticks\":\"\"}}}],\"bar\":[{\"error_x\":{\"color\":\"#2a3f5f\"},\"error_y\":{\"color\":\"#2a3f5f\"},\"marker\":{\"line\":{\"color\":\"#E5ECF6\",\"width\":0.5},\"pattern\":{\"fillmode\":\"overlay\",\"size\":10,\"solidity\":0.2}},\"type\":\"bar\"}],\"scattergeo\":[{\"type\":\"scattergeo\",\"marker\":{\"colorbar\":{\"outlinewidth\":0,\"ticks\":\"\"}}}],\"scatterpolar\":[{\"type\":\"scatterpolar\",\"marker\":{\"colorbar\":{\"outlinewidth\":0,\"ticks\":\"\"}}}],\"histogram\":[{\"marker\":{\"pattern\":{\"fillmode\":\"overlay\",\"size\":10,\"solidity\":0.2}},\"type\":\"histogram\"}],\"scattergl\":[{\"type\":\"scattergl\",\"marker\":{\"colorbar\":{\"outlinewidth\":0,\"ticks\":\"\"}}}],\"scatter3d\":[{\"type\":\"scatter3d\",\"line\":{\"colorbar\":{\"outlinewidth\":0,\"ticks\":\"\"}},\"marker\":{\"colorbar\":{\"outlinewidth\":0,\"ticks\":\"\"}}}],\"scattermapbox\":[{\"type\":\"scattermapbox\",\"marker\":{\"colorbar\":{\"outlinewidth\":0,\"ticks\":\"\"}}}],\"scatterternary\":[{\"type\":\"scatterternary\",\"marker\":{\"colorbar\":{\"outlinewidth\":0,\"ticks\":\"\"}}}],\"scattercarpet\":[{\"type\":\"scattercarpet\",\"marker\":{\"colorbar\":{\"outlinewidth\":0,\"ticks\":\"\"}}}],\"carpet\":[{\"aaxis\":{\"endlinecolor\":\"#2a3f5f\",\"gridcolor\":\"white\",\"linecolor\":\"white\",\"minorgridcolor\":\"white\",\"startlinecolor\":\"#2a3f5f\"},\"baxis\":{\"endlinecolor\":\"#2a3f5f\",\"gridcolor\":\"white\",\"linecolor\":\"white\",\"minorgridcolor\":\"white\",\"startlinecolor\":\"#2a3f5f\"},\"type\":\"carpet\"}],\"table\":[{\"cells\":{\"fill\":{\"color\":\"#EBF0F8\"},\"line\":{\"color\":\"white\"}},\"header\":{\"fill\":{\"color\":\"#C8D4E3\"},\"line\":{\"color\":\"white\"}},\"type\":\"table\"}],\"barpolar\":[{\"marker\":{\"line\":{\"color\":\"#E5ECF6\",\"width\":0.5},\"pattern\":{\"fillmode\":\"overlay\",\"size\":10,\"solidity\":0.2}},\"type\":\"barpolar\"}],\"pie\":[{\"automargin\":true,\"type\":\"pie\"}]},\"layout\":{\"autotypenumbers\":\"strict\",\"colorway\":[\"#636efa\",\"#EF553B\",\"#00cc96\",\"#ab63fa\",\"#FFA15A\",\"#19d3f3\",\"#FF6692\",\"#B6E880\",\"#FF97FF\",\"#FECB52\"],\"font\":{\"color\":\"#2a3f5f\"},\"hovermode\":\"closest\",\"hoverlabel\":{\"align\":\"left\"},\"paper_bgcolor\":\"white\",\"plot_bgcolor\":\"#E5ECF6\",\"polar\":{\"bgcolor\":\"#E5ECF6\",\"angularaxis\":{\"gridcolor\":\"white\",\"linecolor\":\"white\",\"ticks\":\"\"},\"radialaxis\":{\"gridcolor\":\"white\",\"linecolor\":\"white\",\"ticks\":\"\"}},\"ternary\":{\"bgcolor\":\"#E5ECF6\",\"aaxis\":{\"gridcolor\":\"white\",\"linecolor\":\"white\",\"ticks\":\"\"},\"baxis\":{\"gridcolor\":\"white\",\"linecolor\":\"white\",\"ticks\":\"\"},\"caxis\":{\"gridcolor\":\"white\",\"linecolor\":\"white\",\"ticks\":\"\"}},\"coloraxis\":{\"colorbar\":{\"outlinewidth\":0,\"ticks\":\"\"}},\"colorscale\":{\"sequential\":[[0.0,\"#0d0887\"],[0.1111111111111111,\"#46039f\"],[0.2222222222222222,\"#7201a8\"],[0.3333333333333333,\"#9c179e\"],[0.4444444444444444,\"#bd3786\"],[0.5555555555555556,\"#d8576b\"],[0.6666666666666666,\"#ed7953\"],[0.7777777777777778,\"#fb9f3a\"],[0.8888888888888888,\"#fdca26\"],[1.0,\"#f0f921\"]],\"sequentialminus\":[[0.0,\"#0d0887\"],[0.1111111111111111,\"#46039f\"],[0.2222222222222222,\"#7201a8\"],[0.3333333333333333,\"#9c179e\"],[0.4444444444444444,\"#bd3786\"],[0.5555555555555556,\"#d8576b\"],[0.6666666666666666,\"#ed7953\"],[0.7777777777777778,\"#fb9f3a\"],[0.8888888888888888,\"#fdca26\"],[1.0,\"#f0f921\"]],\"diverging\":[[0,\"#8e0152\"],[0.1,\"#c51b7d\"],[0.2,\"#de77ae\"],[0.3,\"#f1b6da\"],[0.4,\"#fde0ef\"],[0.5,\"#f7f7f7\"],[0.6,\"#e6f5d0\"],[0.7,\"#b8e186\"],[0.8,\"#7fbc41\"],[0.9,\"#4d9221\"],[1,\"#276419\"]]},\"xaxis\":{\"gridcolor\":\"white\",\"linecolor\":\"white\",\"ticks\":\"\",\"title\":{\"standoff\":15},\"zerolinecolor\":\"white\",\"automargin\":true,\"zerolinewidth\":2},\"yaxis\":{\"gridcolor\":\"white\",\"linecolor\":\"white\",\"ticks\":\"\",\"title\":{\"standoff\":15},\"zerolinecolor\":\"white\",\"automargin\":true,\"zerolinewidth\":2},\"scene\":{\"xaxis\":{\"backgroundcolor\":\"#E5ECF6\",\"gridcolor\":\"white\",\"linecolor\":\"white\",\"showbackground\":true,\"ticks\":\"\",\"zerolinecolor\":\"white\",\"gridwidth\":2},\"yaxis\":{\"backgroundcolor\":\"#E5ECF6\",\"gridcolor\":\"white\",\"linecolor\":\"white\",\"showbackground\":true,\"ticks\":\"\",\"zerolinecolor\":\"white\",\"gridwidth\":2},\"zaxis\":{\"backgroundcolor\":\"#E5ECF6\",\"gridcolor\":\"white\",\"linecolor\":\"white\",\"showbackground\":true,\"ticks\":\"\",\"zerolinecolor\":\"white\",\"gridwidth\":2}},\"shapedefaults\":{\"line\":{\"color\":\"#2a3f5f\"}},\"annotationdefaults\":{\"arrowcolor\":\"#2a3f5f\",\"arrowhead\":0,\"arrowwidth\":1},\"geo\":{\"bgcolor\":\"white\",\"landcolor\":\"#E5ECF6\",\"subunitcolor\":\"white\",\"showland\":true,\"showlakes\":true,\"lakecolor\":\"white\"},\"title\":{\"x\":0.05},\"mapbox\":{\"style\":\"light\"}}},\"legend\":{\"tracegroupgap\":0},\"margin\":{\"t\":60},\"height\":1000,\"width\":1000},                        {\"responsive\": true}                    ).then(function(){\n",
       "                            \n",
       "var gd = document.getElementById('241a7a91-a464-4e51-9ba0-bd8460c5c75b');\n",
       "var x = new MutationObserver(function (mutations, observer) {{\n",
       "        var display = window.getComputedStyle(gd).display;\n",
       "        if (!display || display === 'none') {{\n",
       "            console.log([gd, 'removed!']);\n",
       "            Plotly.purge(gd);\n",
       "            observer.disconnect();\n",
       "        }}\n",
       "}});\n",
       "\n",
       "// Listen for the removal of the full notebook cells\n",
       "var notebookContainer = gd.closest('#notebook-container');\n",
       "if (notebookContainer) {{\n",
       "    x.observe(notebookContainer, {childList: true});\n",
       "}}\n",
       "\n",
       "// Listen for the clearing of the current output cell\n",
       "var outputEl = gd.closest('.output');\n",
       "if (outputEl) {{\n",
       "    x.observe(outputEl, {childList: true});\n",
       "}}\n",
       "\n",
       "                        })                };                });            </script>        </div>"
      ]
     },
     "metadata": {},
     "output_type": "display_data"
    }
   ],
   "source": [
    "data1=data[['precipitation','temp_max','temp_min','wind']]\n",
    "weather1 = data[['precipitation','temp_max','temp_min','wind','weather']]\n",
    "figure = px.sunburst(weather1,path=['weather','precipitation'],values='wind',width=1000,height=1000)\n",
    "figure.show()"
   ]
  },
  {
   "cell_type": "markdown",
   "id": "2dcec318",
   "metadata": {},
   "source": [
    "# Task#5: Features Extraction\n"
   ]
  },
  {
   "cell_type": "code",
   "execution_count": 113,
   "id": "e4172d54",
   "metadata": {},
   "outputs": [],
   "source": [
    "X=data[['precipitation','temp_max','temp_min','wind']]\n",
    "Y=data['weather']"
   ]
  },
  {
   "cell_type": "markdown",
   "id": "778d923f",
   "metadata": {},
   "source": [
    "\n",
    "# Task#6: Spliting data for traing and testing"
   ]
  },
  {
   "cell_type": "code",
   "execution_count": 117,
   "id": "add8964e",
   "metadata": {},
   "outputs": [],
   "source": [
    "from sklearn.model_selection import train_test_split\n",
    "\n",
    "X_train,X_test,Y_train,Y_test = train_test_split(X,Y,test_size=0.30,random_state=42)"
   ]
  },
  {
   "cell_type": "markdown",
   "id": "88a7ef1b",
   "metadata": {},
   "source": [
    "# Task#7: Model Training by Naive Bayes Algo(MultinomialNB)"
   ]
  },
  {
   "cell_type": "code",
   "execution_count": 163,
   "id": "4ff1287b",
   "metadata": {},
   "outputs": [
    {
     "data": {
      "text/plain": [
       "KNeighborsClassifier(n_neighbors=1)"
      ]
     },
     "execution_count": 163,
     "metadata": {},
     "output_type": "execute_result"
    }
   ],
   "source": [
    "from sklearn.neighbors import  KNeighborsClassifier\n",
    "KNN = KNeighborsClassifier(n_neighbors=1)\n",
    "KNN.fit(X,Y)"
   ]
  },
  {
   "cell_type": "code",
   "execution_count": 164,
   "id": "3e19de34",
   "metadata": {},
   "outputs": [
    {
     "name": "stderr",
     "output_type": "stream",
     "text": [
      "C:\\Users\\Hiten\\anaconda3\\lib\\site-packages\\sklearn\\neighbors\\_classification.py:228: FutureWarning:\n",
      "\n",
      "Unlike other reduction functions (e.g. `skew`, `kurtosis`), the default behavior of `mode` typically preserves the axis it acts along. In SciPy 1.11.0, this behavior will change: the default value of `keepdims` will become False, the `axis` over which the statistic is taken will be eliminated, and the value None will no longer be accepted. Set `keepdims` to True or False to avoid this warning.\n",
      "\n"
     ]
    },
    {
     "data": {
      "text/plain": [
       "0.9972621492128679"
      ]
     },
     "execution_count": 164,
     "metadata": {},
     "output_type": "execute_result"
    }
   ],
   "source": [
    "KNN.score(X,Y)"
   ]
  },
  {
   "cell_type": "code",
   "execution_count": 156,
   "id": "7383739f",
   "metadata": {},
   "outputs": [
    {
     "name": "stderr",
     "output_type": "stream",
     "text": [
      "C:\\Users\\Hiten\\anaconda3\\lib\\site-packages\\sklearn\\base.py:450: UserWarning:\n",
      "\n",
      "X does not have valid feature names, but KNeighborsClassifier was fitted with feature names\n",
      "\n",
      "C:\\Users\\Hiten\\anaconda3\\lib\\site-packages\\sklearn\\neighbors\\_classification.py:228: FutureWarning:\n",
      "\n",
      "Unlike other reduction functions (e.g. `skew`, `kurtosis`), the default behavior of `mode` typically preserves the axis it acts along. In SciPy 1.11.0, this behavior will change: the default value of `keepdims` will become False, the `axis` over which the statistic is taken will be eliminated, and the value None will no longer be accepted. Set `keepdims` to True or False to avoid this warning.\n",
      "\n"
     ]
    },
    {
     "data": {
      "text/plain": [
       "array(['snow'], dtype=object)"
      ]
     },
     "execution_count": 156,
     "metadata": {},
     "output_type": "execute_result"
    }
   ],
   "source": [
    "KNN.predict([[2.5,1.7,-2.8,5.0]])\n"
   ]
  },
  {
   "cell_type": "code",
   "execution_count": 165,
   "id": "eebc71a5",
   "metadata": {},
   "outputs": [
    {
     "name": "stderr",
     "output_type": "stream",
     "text": [
      "C:\\Users\\Hiten\\anaconda3\\lib\\site-packages\\sklearn\\neighbors\\_classification.py:228: FutureWarning:\n",
      "\n",
      "Unlike other reduction functions (e.g. `skew`, `kurtosis`), the default behavior of `mode` typically preserves the axis it acts along. In SciPy 1.11.0, this behavior will change: the default value of `keepdims` will become False, the `axis` over which the statistic is taken will be eliminated, and the value None will no longer be accepted. Set `keepdims` to True or False to avoid this warning.\n",
      "\n"
     ]
    },
    {
     "data": {
      "text/plain": [
       "array(['sun', 'rain', 'rain', 'sun', 'rain', 'rain', 'rain', 'sun',\n",
       "       'rain', 'sun', 'sun', 'sun', 'rain', 'sun', 'fog', 'rain', 'sun',\n",
       "       'fog', 'fog', 'sun', 'rain', 'rain', 'rain', 'sun', 'fog', 'rain',\n",
       "       'sun', 'sun', 'fog', 'sun', 'rain', 'sun', 'sun', 'snow', 'sun',\n",
       "       'rain', 'rain', 'rain', 'rain', 'sun', 'rain', 'sun', 'fog', 'sun',\n",
       "       'sun', 'rain', 'rain', 'sun', 'rain', 'sun', 'sun', 'rain', 'sun',\n",
       "       'rain', 'sun', 'rain', 'rain', 'sun', 'rain', 'sun', 'rain', 'sun',\n",
       "       'snow', 'sun', 'sun', 'drizzle', 'rain', 'sun', 'rain', 'rain',\n",
       "       'rain', 'fog', 'sun', 'rain', 'rain', 'sun', 'rain', 'sun', 'rain',\n",
       "       'snow', 'rain', 'drizzle', 'rain', 'sun', 'rain', 'sun', 'drizzle',\n",
       "       'rain', 'fog', 'rain', 'rain', 'sun', 'sun', 'rain', 'rain', 'sun',\n",
       "       'sun', 'rain', 'sun', 'rain', 'sun', 'sun', 'rain', 'snow', 'rain',\n",
       "       'sun', 'sun', 'rain', 'sun', 'rain', 'rain', 'sun', 'rain', 'rain',\n",
       "       'drizzle', 'fog', 'sun', 'sun', 'sun', 'rain', 'rain', 'rain',\n",
       "       'rain', 'rain', 'rain', 'sun', 'sun', 'sun', 'sun', 'sun', 'sun',\n",
       "       'sun', 'sun', 'sun', 'fog', 'sun', 'rain', 'rain', 'rain', 'sun',\n",
       "       'drizzle', 'sun', 'rain', 'rain', 'drizzle', 'fog', 'sun', 'rain',\n",
       "       'sun', 'sun', 'rain', 'sun', 'sun', 'sun', 'rain', 'rain', 'fog',\n",
       "       'sun', 'rain', 'rain', 'sun', 'sun', 'rain', 'sun', 'sun', 'rain',\n",
       "       'rain', 'sun', 'sun', 'sun', 'rain', 'rain', 'fog', 'sun', 'rain',\n",
       "       'rain', 'sun', 'sun', 'sun', 'rain', 'sun', 'sun', 'sun', 'rain',\n",
       "       'rain', 'rain', 'rain', 'rain', 'sun', 'sun', 'drizzle', 'fog',\n",
       "       'sun', 'rain', 'fog', 'sun', 'fog', 'rain', 'snow', 'rain', 'rain',\n",
       "       'sun', 'drizzle', 'rain', 'sun', 'rain', 'rain', 'sun', 'rain',\n",
       "       'sun', 'rain', 'sun', 'sun', 'sun', 'rain', 'sun', 'sun', 'sun',\n",
       "       'rain', 'sun', 'rain', 'sun', 'sun', 'sun', 'fog', 'rain', 'sun',\n",
       "       'rain', 'sun', 'rain', 'sun', 'rain', 'sun', 'sun', 'rain', 'sun',\n",
       "       'sun', 'sun', 'drizzle', 'fog', 'snow', 'rain', 'sun', 'snow',\n",
       "       'sun', 'sun', 'sun', 'sun', 'rain', 'rain', 'rain', 'rain', 'rain',\n",
       "       'fog', 'sun', 'fog', 'rain', 'sun', 'rain', 'rain', 'rain', 'rain',\n",
       "       'rain', 'rain', 'rain', 'fog', 'rain', 'fog', 'fog', 'sun', 'sun',\n",
       "       'sun', 'sun', 'rain', 'sun', 'sun', 'rain', 'snow', 'sun', 'sun',\n",
       "       'fog', 'rain', 'sun', 'sun', 'sun', 'sun', 'rain', 'sun', 'sun',\n",
       "       'rain', 'fog', 'rain', 'sun', 'fog', 'rain', 'rain', 'sun', 'rain',\n",
       "       'rain', 'rain', 'rain', 'rain', 'rain', 'rain', 'rain', 'rain',\n",
       "       'rain', 'drizzle', 'sun', 'sun', 'rain', 'rain', 'rain', 'sun',\n",
       "       'rain', 'sun', 'sun', 'rain', 'sun', 'sun', 'rain', 'rain', 'rain',\n",
       "       'sun', 'sun', 'rain', 'rain', 'drizzle', 'sun', 'sun', 'sun',\n",
       "       'rain', 'rain', 'rain', 'sun', 'sun', 'rain', 'rain', 'rain',\n",
       "       'rain', 'rain', 'sun', 'rain', 'rain', 'sun', 'rain', 'fog',\n",
       "       'rain', 'rain', 'rain', 'sun', 'sun', 'fog', 'rain', 'sun', 'rain',\n",
       "       'sun', 'fog', 'sun', 'fog', 'sun', 'sun', 'sun', 'rain', 'rain',\n",
       "       'rain', 'sun', 'sun', 'sun', 'sun', 'rain', 'rain', 'rain', 'rain',\n",
       "       'rain', 'rain', 'rain', 'rain', 'rain', 'rain', 'rain', 'sun',\n",
       "       'fog', 'sun', 'rain', 'rain', 'rain', 'sun', 'sun', 'rain', 'rain',\n",
       "       'sun', 'sun', 'sun', 'rain', 'sun', 'sun', 'sun', 'rain', 'rain',\n",
       "       'rain', 'sun', 'sun', 'drizzle', 'sun', 'rain', 'sun', 'sun',\n",
       "       'sun', 'sun', 'sun', 'sun', 'sun', 'sun', 'sun', 'sun', 'rain',\n",
       "       'rain', 'sun', 'sun', 'sun', 'sun', 'drizzle', 'sun', 'fog',\n",
       "       'rain', 'sun', 'sun', 'rain', 'sun', 'rain', 'rain', 'sun', 'sun',\n",
       "       'rain', 'rain', 'rain', 'rain', 'drizzle'], dtype=object)"
      ]
     },
     "execution_count": 165,
     "metadata": {},
     "output_type": "execute_result"
    }
   ],
   "source": [
    "y_pred=KNN.predict(X_test)\n",
    "y_pred"
   ]
  },
  {
   "cell_type": "markdown",
   "id": "a69f25c0",
   "metadata": {},
   "source": [
    "# Task#8: Printing Classification Report"
   ]
  },
  {
   "cell_type": "code",
   "execution_count": 166,
   "id": "a8fe6579",
   "metadata": {},
   "outputs": [
    {
     "name": "stdout",
     "output_type": "stream",
     "text": [
      "              precision    recall  f1-score   support\n",
      "\n",
      "     drizzle       1.00      1.00      1.00        14\n",
      "         fog       1.00      1.00      1.00        32\n",
      "        rain       1.00      1.00      1.00       192\n",
      "        snow       1.00      1.00      1.00         8\n",
      "         sun       1.00      1.00      1.00       193\n",
      "\n",
      "    accuracy                           1.00       439\n",
      "   macro avg       1.00      1.00      1.00       439\n",
      "weighted avg       1.00      1.00      1.00       439\n",
      "\n"
     ]
    }
   ],
   "source": [
    "from sklearn.metrics import classification_report\n",
    "print(classification_report(y_pred,Y_test))"
   ]
  }
 ],
 "metadata": {
  "kernelspec": {
   "display_name": "Python 3 (ipykernel)",
   "language": "python",
   "name": "python3"
  },
  "language_info": {
   "codemirror_mode": {
    "name": "ipython",
    "version": 3
   },
   "file_extension": ".py",
   "mimetype": "text/x-python",
   "name": "python",
   "nbconvert_exporter": "python",
   "pygments_lexer": "ipython3",
   "version": "3.9.13"
  }
 },
 "nbformat": 4,
 "nbformat_minor": 5
}
