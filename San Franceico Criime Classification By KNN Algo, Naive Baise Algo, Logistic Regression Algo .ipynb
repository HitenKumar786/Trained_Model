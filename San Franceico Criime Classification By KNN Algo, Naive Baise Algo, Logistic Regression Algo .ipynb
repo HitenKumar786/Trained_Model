{
 "cells": [
  {
   "cell_type": "markdown",
   "id": "77d8b73d",
   "metadata": {},
   "source": [
    "# Importing Libraires"
   ]
  },
  {
   "cell_type": "code",
   "execution_count": 1,
   "id": "1434bb2c",
   "metadata": {},
   "outputs": [],
   "source": [
    "import pandas as pd \n",
    "import numpy as np\n",
    "import seaborn as sns\n",
    "from sklearn.preprocessing import LabelEncoder\n",
    "from sklearn.linear_model import LogisticRegression\n",
    "from sklearn.naive_bayes import MultinomialNB\n",
    "from sklearn.neighbors import KNeighborsClassifier\n",
    "from sklearn.model_selection import train_test_split\n",
    "from sklearn.feature_extraction.text import CountVectorizer\n",
    "from sklearn.metrics import classification_report"
   ]
  },
  {
   "cell_type": "markdown",
   "id": "c0452fff",
   "metadata": {},
   "source": [
    "# Loading datasets"
   ]
  },
  {
   "cell_type": "code",
   "execution_count": 58,
   "id": "66104655",
   "metadata": {},
   "outputs": [
    {
     "data": {
      "text/html": [
       "<div>\n",
       "<style scoped>\n",
       "    .dataframe tbody tr th:only-of-type {\n",
       "        vertical-align: middle;\n",
       "    }\n",
       "\n",
       "    .dataframe tbody tr th {\n",
       "        vertical-align: top;\n",
       "    }\n",
       "\n",
       "    .dataframe thead th {\n",
       "        text-align: right;\n",
       "    }\n",
       "</style>\n",
       "<table border=\"1\" class=\"dataframe\">\n",
       "  <thead>\n",
       "    <tr style=\"text-align: right;\">\n",
       "      <th></th>\n",
       "      <th>Id</th>\n",
       "      <th>Dates</th>\n",
       "      <th>DayOfWeek</th>\n",
       "      <th>PdDistrict</th>\n",
       "      <th>Address</th>\n",
       "      <th>X</th>\n",
       "      <th>Y</th>\n",
       "    </tr>\n",
       "  </thead>\n",
       "  <tbody>\n",
       "    <tr>\n",
       "      <th>0</th>\n",
       "      <td>0</td>\n",
       "      <td>2015-05-10 23:59:00</td>\n",
       "      <td>Sunday</td>\n",
       "      <td>BAYVIEW</td>\n",
       "      <td>2000 Block of THOMAS AV</td>\n",
       "      <td>-122.399588</td>\n",
       "      <td>37.735051</td>\n",
       "    </tr>\n",
       "    <tr>\n",
       "      <th>1</th>\n",
       "      <td>1</td>\n",
       "      <td>2015-05-10 23:51:00</td>\n",
       "      <td>Sunday</td>\n",
       "      <td>BAYVIEW</td>\n",
       "      <td>3RD ST / REVERE AV</td>\n",
       "      <td>-122.391523</td>\n",
       "      <td>37.732432</td>\n",
       "    </tr>\n",
       "    <tr>\n",
       "      <th>2</th>\n",
       "      <td>2</td>\n",
       "      <td>2015-05-10 23:50:00</td>\n",
       "      <td>Sunday</td>\n",
       "      <td>NORTHERN</td>\n",
       "      <td>2000 Block of GOUGH ST</td>\n",
       "      <td>-122.426002</td>\n",
       "      <td>37.792212</td>\n",
       "    </tr>\n",
       "    <tr>\n",
       "      <th>3</th>\n",
       "      <td>3</td>\n",
       "      <td>2015-05-10 23:45:00</td>\n",
       "      <td>Sunday</td>\n",
       "      <td>INGLESIDE</td>\n",
       "      <td>4700 Block of MISSION ST</td>\n",
       "      <td>-122.437394</td>\n",
       "      <td>37.721412</td>\n",
       "    </tr>\n",
       "    <tr>\n",
       "      <th>4</th>\n",
       "      <td>4</td>\n",
       "      <td>2015-05-10 23:45:00</td>\n",
       "      <td>Sunday</td>\n",
       "      <td>INGLESIDE</td>\n",
       "      <td>4700 Block of MISSION ST</td>\n",
       "      <td>-122.437394</td>\n",
       "      <td>37.721412</td>\n",
       "    </tr>\n",
       "    <tr>\n",
       "      <th>...</th>\n",
       "      <td>...</td>\n",
       "      <td>...</td>\n",
       "      <td>...</td>\n",
       "      <td>...</td>\n",
       "      <td>...</td>\n",
       "      <td>...</td>\n",
       "      <td>...</td>\n",
       "    </tr>\n",
       "    <tr>\n",
       "      <th>884257</th>\n",
       "      <td>884257</td>\n",
       "      <td>2003-01-01 00:01:00</td>\n",
       "      <td>Wednesday</td>\n",
       "      <td>MISSION</td>\n",
       "      <td>2600 Block of BRYANT ST</td>\n",
       "      <td>-122.408983</td>\n",
       "      <td>37.751987</td>\n",
       "    </tr>\n",
       "    <tr>\n",
       "      <th>884258</th>\n",
       "      <td>884258</td>\n",
       "      <td>2003-01-01 00:01:00</td>\n",
       "      <td>Wednesday</td>\n",
       "      <td>NORTHERN</td>\n",
       "      <td>1900 Block of WASHINGTON ST</td>\n",
       "      <td>-122.425342</td>\n",
       "      <td>37.792681</td>\n",
       "    </tr>\n",
       "    <tr>\n",
       "      <th>884259</th>\n",
       "      <td>884259</td>\n",
       "      <td>2003-01-01 00:01:00</td>\n",
       "      <td>Wednesday</td>\n",
       "      <td>INGLESIDE</td>\n",
       "      <td>5500 Block of MISSION ST</td>\n",
       "      <td>-122.445418</td>\n",
       "      <td>37.712075</td>\n",
       "    </tr>\n",
       "    <tr>\n",
       "      <th>884260</th>\n",
       "      <td>884260</td>\n",
       "      <td>2003-01-01 00:01:00</td>\n",
       "      <td>Wednesday</td>\n",
       "      <td>BAYVIEW</td>\n",
       "      <td>1500 Block of HUDSON AV</td>\n",
       "      <td>-122.387394</td>\n",
       "      <td>37.739479</td>\n",
       "    </tr>\n",
       "    <tr>\n",
       "      <th>884261</th>\n",
       "      <td>884261</td>\n",
       "      <td>2003-01-01 00:01:00</td>\n",
       "      <td>Wednesday</td>\n",
       "      <td>TARAVAL</td>\n",
       "      <td>1500 Block of SLOAT BL</td>\n",
       "      <td>-122.489714</td>\n",
       "      <td>37.733950</td>\n",
       "    </tr>\n",
       "  </tbody>\n",
       "</table>\n",
       "<p>884262 rows × 7 columns</p>\n",
       "</div>"
      ],
      "text/plain": [
       "            Id                Dates  DayOfWeek PdDistrict  \\\n",
       "0            0  2015-05-10 23:59:00     Sunday    BAYVIEW   \n",
       "1            1  2015-05-10 23:51:00     Sunday    BAYVIEW   \n",
       "2            2  2015-05-10 23:50:00     Sunday   NORTHERN   \n",
       "3            3  2015-05-10 23:45:00     Sunday  INGLESIDE   \n",
       "4            4  2015-05-10 23:45:00     Sunday  INGLESIDE   \n",
       "...        ...                  ...        ...        ...   \n",
       "884257  884257  2003-01-01 00:01:00  Wednesday    MISSION   \n",
       "884258  884258  2003-01-01 00:01:00  Wednesday   NORTHERN   \n",
       "884259  884259  2003-01-01 00:01:00  Wednesday  INGLESIDE   \n",
       "884260  884260  2003-01-01 00:01:00  Wednesday    BAYVIEW   \n",
       "884261  884261  2003-01-01 00:01:00  Wednesday    TARAVAL   \n",
       "\n",
       "                            Address           X          Y  \n",
       "0           2000 Block of THOMAS AV -122.399588  37.735051  \n",
       "1                3RD ST / REVERE AV -122.391523  37.732432  \n",
       "2            2000 Block of GOUGH ST -122.426002  37.792212  \n",
       "3          4700 Block of MISSION ST -122.437394  37.721412  \n",
       "4          4700 Block of MISSION ST -122.437394  37.721412  \n",
       "...                             ...         ...        ...  \n",
       "884257      2600 Block of BRYANT ST -122.408983  37.751987  \n",
       "884258  1900 Block of WASHINGTON ST -122.425342  37.792681  \n",
       "884259     5500 Block of MISSION ST -122.445418  37.712075  \n",
       "884260      1500 Block of HUDSON AV -122.387394  37.739479  \n",
       "884261       1500 Block of SLOAT BL -122.489714  37.733950  \n",
       "\n",
       "[884262 rows x 7 columns]"
      ]
     },
     "execution_count": 58,
     "metadata": {},
     "output_type": "execute_result"
    }
   ],
   "source": [
    "crime = pd.read_csv('train.csv')\n",
    "crimetest = pd.read_csv('test.csv')\n",
    "crime\n",
    "crimetest "
   ]
  },
  {
   "cell_type": "markdown",
   "id": "ef563008",
   "metadata": {},
   "source": [
    "# Data Preporcessing"
   ]
  },
  {
   "cell_type": "code",
   "execution_count": 3,
   "id": "9f0294aa",
   "metadata": {},
   "outputs": [],
   "source": [
    "crime['latlong'] = crime['X']*crime['Y']\n",
    "crimetest['latlong'] = crime['X']*crime['Y']"
   ]
  },
  {
   "cell_type": "code",
   "execution_count": 4,
   "id": "210efc14",
   "metadata": {},
   "outputs": [
    {
     "data": {
      "text/html": [
       "<div>\n",
       "<style scoped>\n",
       "    .dataframe tbody tr th:only-of-type {\n",
       "        vertical-align: middle;\n",
       "    }\n",
       "\n",
       "    .dataframe tbody tr th {\n",
       "        vertical-align: top;\n",
       "    }\n",
       "\n",
       "    .dataframe thead th {\n",
       "        text-align: right;\n",
       "    }\n",
       "</style>\n",
       "<table border=\"1\" class=\"dataframe\">\n",
       "  <thead>\n",
       "    <tr style=\"text-align: right;\">\n",
       "      <th></th>\n",
       "      <th>Id</th>\n",
       "      <th>Dates</th>\n",
       "      <th>DayOfWeek</th>\n",
       "      <th>PdDistrict</th>\n",
       "      <th>Address</th>\n",
       "      <th>X</th>\n",
       "      <th>Y</th>\n",
       "      <th>latlong</th>\n",
       "    </tr>\n",
       "  </thead>\n",
       "  <tbody>\n",
       "    <tr>\n",
       "      <th>0</th>\n",
       "      <td>0</td>\n",
       "      <td>2015-05-10 23:59:00</td>\n",
       "      <td>Sunday</td>\n",
       "      <td>BAYVIEW</td>\n",
       "      <td>2000 Block of THOMAS AV</td>\n",
       "      <td>-122.399588</td>\n",
       "      <td>37.735051</td>\n",
       "      <td>-4624.588916</td>\n",
       "    </tr>\n",
       "    <tr>\n",
       "      <th>1</th>\n",
       "      <td>1</td>\n",
       "      <td>2015-05-10 23:51:00</td>\n",
       "      <td>Sunday</td>\n",
       "      <td>BAYVIEW</td>\n",
       "      <td>3RD ST / REVERE AV</td>\n",
       "      <td>-122.391523</td>\n",
       "      <td>37.732432</td>\n",
       "      <td>-4624.588916</td>\n",
       "    </tr>\n",
       "    <tr>\n",
       "      <th>2</th>\n",
       "      <td>2</td>\n",
       "      <td>2015-05-10 23:50:00</td>\n",
       "      <td>Sunday</td>\n",
       "      <td>NORTHERN</td>\n",
       "      <td>2000 Block of GOUGH ST</td>\n",
       "      <td>-122.426002</td>\n",
       "      <td>37.792212</td>\n",
       "      <td>-4627.691645</td>\n",
       "    </tr>\n",
       "    <tr>\n",
       "      <th>3</th>\n",
       "      <td>3</td>\n",
       "      <td>2015-05-10 23:45:00</td>\n",
       "      <td>Sunday</td>\n",
       "      <td>INGLESIDE</td>\n",
       "      <td>4700 Block of MISSION ST</td>\n",
       "      <td>-122.437394</td>\n",
       "      <td>37.721412</td>\n",
       "      <td>-4627.847257</td>\n",
       "    </tr>\n",
       "    <tr>\n",
       "      <th>4</th>\n",
       "      <td>4</td>\n",
       "      <td>2015-05-10 23:45:00</td>\n",
       "      <td>Sunday</td>\n",
       "      <td>INGLESIDE</td>\n",
       "      <td>4700 Block of MISSION ST</td>\n",
       "      <td>-122.437394</td>\n",
       "      <td>37.721412</td>\n",
       "      <td>-4624.699819</td>\n",
       "    </tr>\n",
       "    <tr>\n",
       "      <th>...</th>\n",
       "      <td>...</td>\n",
       "      <td>...</td>\n",
       "      <td>...</td>\n",
       "      <td>...</td>\n",
       "      <td>...</td>\n",
       "      <td>...</td>\n",
       "      <td>...</td>\n",
       "      <td>...</td>\n",
       "    </tr>\n",
       "    <tr>\n",
       "      <th>884257</th>\n",
       "      <td>884257</td>\n",
       "      <td>2003-01-01 00:01:00</td>\n",
       "      <td>Wednesday</td>\n",
       "      <td>MISSION</td>\n",
       "      <td>2600 Block of BRYANT ST</td>\n",
       "      <td>-122.408983</td>\n",
       "      <td>37.751987</td>\n",
       "      <td>NaN</td>\n",
       "    </tr>\n",
       "    <tr>\n",
       "      <th>884258</th>\n",
       "      <td>884258</td>\n",
       "      <td>2003-01-01 00:01:00</td>\n",
       "      <td>Wednesday</td>\n",
       "      <td>NORTHERN</td>\n",
       "      <td>1900 Block of WASHINGTON ST</td>\n",
       "      <td>-122.425342</td>\n",
       "      <td>37.792681</td>\n",
       "      <td>NaN</td>\n",
       "    </tr>\n",
       "    <tr>\n",
       "      <th>884259</th>\n",
       "      <td>884259</td>\n",
       "      <td>2003-01-01 00:01:00</td>\n",
       "      <td>Wednesday</td>\n",
       "      <td>INGLESIDE</td>\n",
       "      <td>5500 Block of MISSION ST</td>\n",
       "      <td>-122.445418</td>\n",
       "      <td>37.712075</td>\n",
       "      <td>NaN</td>\n",
       "    </tr>\n",
       "    <tr>\n",
       "      <th>884260</th>\n",
       "      <td>884260</td>\n",
       "      <td>2003-01-01 00:01:00</td>\n",
       "      <td>Wednesday</td>\n",
       "      <td>BAYVIEW</td>\n",
       "      <td>1500 Block of HUDSON AV</td>\n",
       "      <td>-122.387394</td>\n",
       "      <td>37.739479</td>\n",
       "      <td>NaN</td>\n",
       "    </tr>\n",
       "    <tr>\n",
       "      <th>884261</th>\n",
       "      <td>884261</td>\n",
       "      <td>2003-01-01 00:01:00</td>\n",
       "      <td>Wednesday</td>\n",
       "      <td>TARAVAL</td>\n",
       "      <td>1500 Block of SLOAT BL</td>\n",
       "      <td>-122.489714</td>\n",
       "      <td>37.733950</td>\n",
       "      <td>NaN</td>\n",
       "    </tr>\n",
       "  </tbody>\n",
       "</table>\n",
       "<p>884262 rows × 8 columns</p>\n",
       "</div>"
      ],
      "text/plain": [
       "            Id                Dates  DayOfWeek PdDistrict  \\\n",
       "0            0  2015-05-10 23:59:00     Sunday    BAYVIEW   \n",
       "1            1  2015-05-10 23:51:00     Sunday    BAYVIEW   \n",
       "2            2  2015-05-10 23:50:00     Sunday   NORTHERN   \n",
       "3            3  2015-05-10 23:45:00     Sunday  INGLESIDE   \n",
       "4            4  2015-05-10 23:45:00     Sunday  INGLESIDE   \n",
       "...        ...                  ...        ...        ...   \n",
       "884257  884257  2003-01-01 00:01:00  Wednesday    MISSION   \n",
       "884258  884258  2003-01-01 00:01:00  Wednesday   NORTHERN   \n",
       "884259  884259  2003-01-01 00:01:00  Wednesday  INGLESIDE   \n",
       "884260  884260  2003-01-01 00:01:00  Wednesday    BAYVIEW   \n",
       "884261  884261  2003-01-01 00:01:00  Wednesday    TARAVAL   \n",
       "\n",
       "                            Address           X          Y      latlong  \n",
       "0           2000 Block of THOMAS AV -122.399588  37.735051 -4624.588916  \n",
       "1                3RD ST / REVERE AV -122.391523  37.732432 -4624.588916  \n",
       "2            2000 Block of GOUGH ST -122.426002  37.792212 -4627.691645  \n",
       "3          4700 Block of MISSION ST -122.437394  37.721412 -4627.847257  \n",
       "4          4700 Block of MISSION ST -122.437394  37.721412 -4624.699819  \n",
       "...                             ...         ...        ...          ...  \n",
       "884257      2600 Block of BRYANT ST -122.408983  37.751987          NaN  \n",
       "884258  1900 Block of WASHINGTON ST -122.425342  37.792681          NaN  \n",
       "884259     5500 Block of MISSION ST -122.445418  37.712075          NaN  \n",
       "884260      1500 Block of HUDSON AV -122.387394  37.739479          NaN  \n",
       "884261       1500 Block of SLOAT BL -122.489714  37.733950          NaN  \n",
       "\n",
       "[884262 rows x 8 columns]"
      ]
     },
     "execution_count": 4,
     "metadata": {},
     "output_type": "execute_result"
    }
   ],
   "source": [
    "crime\n",
    "crimetest"
   ]
  },
  {
   "cell_type": "code",
   "execution_count": 5,
   "id": "839d5b13",
   "metadata": {},
   "outputs": [],
   "source": [
    "crime.drop(['X','Y','Dates'],axis='columns',inplace=True)\n",
    "crimetest.drop(['X','Y','Dates','Id'],axis='columns',inplace=True)"
   ]
  },
  {
   "cell_type": "code",
   "execution_count": 7,
   "id": "1ff8cd5a",
   "metadata": {},
   "outputs": [
    {
     "data": {
      "text/html": [
       "<div>\n",
       "<style scoped>\n",
       "    .dataframe tbody tr th:only-of-type {\n",
       "        vertical-align: middle;\n",
       "    }\n",
       "\n",
       "    .dataframe tbody tr th {\n",
       "        vertical-align: top;\n",
       "    }\n",
       "\n",
       "    .dataframe thead th {\n",
       "        text-align: right;\n",
       "    }\n",
       "</style>\n",
       "<table border=\"1\" class=\"dataframe\">\n",
       "  <thead>\n",
       "    <tr style=\"text-align: right;\">\n",
       "      <th></th>\n",
       "      <th>Category</th>\n",
       "      <th>Descript</th>\n",
       "      <th>DayOfWeek</th>\n",
       "      <th>PdDistrict</th>\n",
       "      <th>Resolution</th>\n",
       "      <th>Address</th>\n",
       "      <th>latlong</th>\n",
       "    </tr>\n",
       "  </thead>\n",
       "  <tbody>\n",
       "    <tr>\n",
       "      <th>0</th>\n",
       "      <td>37</td>\n",
       "      <td>866</td>\n",
       "      <td>6</td>\n",
       "      <td>4</td>\n",
       "      <td>0</td>\n",
       "      <td>19790</td>\n",
       "      <td>12609</td>\n",
       "    </tr>\n",
       "    <tr>\n",
       "      <th>1</th>\n",
       "      <td>21</td>\n",
       "      <td>810</td>\n",
       "      <td>6</td>\n",
       "      <td>4</td>\n",
       "      <td>0</td>\n",
       "      <td>19790</td>\n",
       "      <td>12609</td>\n",
       "    </tr>\n",
       "    <tr>\n",
       "      <th>2</th>\n",
       "      <td>21</td>\n",
       "      <td>810</td>\n",
       "      <td>6</td>\n",
       "      <td>4</td>\n",
       "      <td>0</td>\n",
       "      <td>22697</td>\n",
       "      <td>1999</td>\n",
       "    </tr>\n",
       "    <tr>\n",
       "      <th>3</th>\n",
       "      <td>16</td>\n",
       "      <td>404</td>\n",
       "      <td>6</td>\n",
       "      <td>4</td>\n",
       "      <td>11</td>\n",
       "      <td>4266</td>\n",
       "      <td>1571</td>\n",
       "    </tr>\n",
       "    <tr>\n",
       "      <th>4</th>\n",
       "      <td>16</td>\n",
       "      <td>404</td>\n",
       "      <td>6</td>\n",
       "      <td>5</td>\n",
       "      <td>11</td>\n",
       "      <td>1843</td>\n",
       "      <td>12206</td>\n",
       "    </tr>\n",
       "    <tr>\n",
       "      <th>...</th>\n",
       "      <td>...</td>\n",
       "      <td>...</td>\n",
       "      <td>...</td>\n",
       "      <td>...</td>\n",
       "      <td>...</td>\n",
       "      <td>...</td>\n",
       "      <td>...</td>\n",
       "    </tr>\n",
       "    <tr>\n",
       "      <th>878044</th>\n",
       "      <td>25</td>\n",
       "      <td>661</td>\n",
       "      <td>1</td>\n",
       "      <td>8</td>\n",
       "      <td>11</td>\n",
       "      <td>15816</td>\n",
       "      <td>29874</td>\n",
       "    </tr>\n",
       "    <tr>\n",
       "      <th>878045</th>\n",
       "      <td>16</td>\n",
       "      <td>404</td>\n",
       "      <td>1</td>\n",
       "      <td>2</td>\n",
       "      <td>11</td>\n",
       "      <td>11491</td>\n",
       "      <td>25037</td>\n",
       "    </tr>\n",
       "    <tr>\n",
       "      <th>878046</th>\n",
       "      <td>16</td>\n",
       "      <td>404</td>\n",
       "      <td>1</td>\n",
       "      <td>7</td>\n",
       "      <td>11</td>\n",
       "      <td>11315</td>\n",
       "      <td>13199</td>\n",
       "    </tr>\n",
       "    <tr>\n",
       "      <th>878047</th>\n",
       "      <td>35</td>\n",
       "      <td>496</td>\n",
       "      <td>1</td>\n",
       "      <td>7</td>\n",
       "      <td>11</td>\n",
       "      <td>22308</td>\n",
       "      <td>14848</td>\n",
       "    </tr>\n",
       "    <tr>\n",
       "      <th>878048</th>\n",
       "      <td>12</td>\n",
       "      <td>204</td>\n",
       "      <td>1</td>\n",
       "      <td>0</td>\n",
       "      <td>11</td>\n",
       "      <td>5128</td>\n",
       "      <td>28278</td>\n",
       "    </tr>\n",
       "  </tbody>\n",
       "</table>\n",
       "<p>878049 rows × 7 columns</p>\n",
       "</div>"
      ],
      "text/plain": [
       "        Category  Descript  DayOfWeek  PdDistrict  Resolution  Address  \\\n",
       "0             37       866          6           4           0    19790   \n",
       "1             21       810          6           4           0    19790   \n",
       "2             21       810          6           4           0    22697   \n",
       "3             16       404          6           4          11     4266   \n",
       "4             16       404          6           5          11     1843   \n",
       "...          ...       ...        ...         ...         ...      ...   \n",
       "878044        25       661          1           8          11    15816   \n",
       "878045        16       404          1           2          11    11491   \n",
       "878046        16       404          1           7          11    11315   \n",
       "878047        35       496          1           7          11    22308   \n",
       "878048        12       204          1           0          11     5128   \n",
       "\n",
       "        latlong  \n",
       "0         12609  \n",
       "1         12609  \n",
       "2          1999  \n",
       "3          1571  \n",
       "4         12206  \n",
       "...         ...  \n",
       "878044    29874  \n",
       "878045    25037  \n",
       "878046    13199  \n",
       "878047    14848  \n",
       "878048    28278  \n",
       "\n",
       "[878049 rows x 7 columns]"
      ]
     },
     "execution_count": 7,
     "metadata": {},
     "output_type": "execute_result"
    }
   ],
   "source": [
    "crime"
   ]
  },
  {
   "cell_type": "markdown",
   "id": "278d5061",
   "metadata": {},
   "source": [
    "# Label Encoding"
   ]
  },
  {
   "cell_type": "code",
   "execution_count": 6,
   "id": "2d0e417e",
   "metadata": {},
   "outputs": [],
   "source": [
    "label_encoder = LabelEncoder()\n",
    "crime = crime[['Category','Descript','DayOfWeek','PdDistrict','Resolution','Address','latlong']].apply(label_encoder.fit_transform)\n",
    "crimetest = crimetest[['DayOfWeek','PdDistrict','Address','latlong']].apply(label_encoder.fit_transform)\n",
    "\n"
   ]
  },
  {
   "cell_type": "code",
   "execution_count": 8,
   "id": "3b3888e5",
   "metadata": {},
   "outputs": [
    {
     "data": {
      "text/html": [
       "<div>\n",
       "<style scoped>\n",
       "    .dataframe tbody tr th:only-of-type {\n",
       "        vertical-align: middle;\n",
       "    }\n",
       "\n",
       "    .dataframe tbody tr th {\n",
       "        vertical-align: top;\n",
       "    }\n",
       "\n",
       "    .dataframe thead th {\n",
       "        text-align: right;\n",
       "    }\n",
       "</style>\n",
       "<table border=\"1\" class=\"dataframe\">\n",
       "  <thead>\n",
       "    <tr style=\"text-align: right;\">\n",
       "      <th></th>\n",
       "      <th>DayOfWeek</th>\n",
       "      <th>PdDistrict</th>\n",
       "      <th>Address</th>\n",
       "      <th>latlong</th>\n",
       "    </tr>\n",
       "  </thead>\n",
       "  <tbody>\n",
       "    <tr>\n",
       "      <th>0</th>\n",
       "      <td>3</td>\n",
       "      <td>0</td>\n",
       "      <td>6407</td>\n",
       "      <td>12609</td>\n",
       "    </tr>\n",
       "    <tr>\n",
       "      <th>1</th>\n",
       "      <td>3</td>\n",
       "      <td>0</td>\n",
       "      <td>9744</td>\n",
       "      <td>12609</td>\n",
       "    </tr>\n",
       "    <tr>\n",
       "      <th>2</th>\n",
       "      <td>3</td>\n",
       "      <td>4</td>\n",
       "      <td>6336</td>\n",
       "      <td>1999</td>\n",
       "    </tr>\n",
       "    <tr>\n",
       "      <th>3</th>\n",
       "      <td>3</td>\n",
       "      <td>2</td>\n",
       "      <td>10633</td>\n",
       "      <td>1571</td>\n",
       "    </tr>\n",
       "    <tr>\n",
       "      <th>4</th>\n",
       "      <td>3</td>\n",
       "      <td>2</td>\n",
       "      <td>10633</td>\n",
       "      <td>12206</td>\n",
       "    </tr>\n",
       "    <tr>\n",
       "      <th>...</th>\n",
       "      <td>...</td>\n",
       "      <td>...</td>\n",
       "      <td>...</td>\n",
       "      <td>...</td>\n",
       "    </tr>\n",
       "    <tr>\n",
       "      <th>884257</th>\n",
       "      <td>6</td>\n",
       "      <td>3</td>\n",
       "      <td>7663</td>\n",
       "      <td>34243</td>\n",
       "    </tr>\n",
       "    <tr>\n",
       "      <th>884258</th>\n",
       "      <td>6</td>\n",
       "      <td>4</td>\n",
       "      <td>5411</td>\n",
       "      <td>34243</td>\n",
       "    </tr>\n",
       "    <tr>\n",
       "      <th>884259</th>\n",
       "      <td>6</td>\n",
       "      <td>2</td>\n",
       "      <td>11240</td>\n",
       "      <td>34243</td>\n",
       "    </tr>\n",
       "    <tr>\n",
       "      <th>884260</th>\n",
       "      <td>6</td>\n",
       "      <td>0</td>\n",
       "      <td>4231</td>\n",
       "      <td>34243</td>\n",
       "    </tr>\n",
       "    <tr>\n",
       "      <th>884261</th>\n",
       "      <td>6</td>\n",
       "      <td>8</td>\n",
       "      <td>4313</td>\n",
       "      <td>34243</td>\n",
       "    </tr>\n",
       "  </tbody>\n",
       "</table>\n",
       "<p>884262 rows × 4 columns</p>\n",
       "</div>"
      ],
      "text/plain": [
       "        DayOfWeek  PdDistrict  Address  latlong\n",
       "0               3           0     6407    12609\n",
       "1               3           0     9744    12609\n",
       "2               3           4     6336     1999\n",
       "3               3           2    10633     1571\n",
       "4               3           2    10633    12206\n",
       "...           ...         ...      ...      ...\n",
       "884257          6           3     7663    34243\n",
       "884258          6           4     5411    34243\n",
       "884259          6           2    11240    34243\n",
       "884260          6           0     4231    34243\n",
       "884261          6           8     4313    34243\n",
       "\n",
       "[884262 rows x 4 columns]"
      ]
     },
     "execution_count": 8,
     "metadata": {},
     "output_type": "execute_result"
    }
   ],
   "source": [
    "crimetest"
   ]
  },
  {
   "cell_type": "markdown",
   "id": "ba338d7b",
   "metadata": {},
   "source": [
    "# Explotary Data Analysis(EDA)"
   ]
  },
  {
   "cell_type": "code",
   "execution_count": 27,
   "id": "88f9a298",
   "metadata": {},
   "outputs": [],
   "source": [
    "x=crime[['Category','Descript','DayOfWeek','PdDistrict','Address','latlong']]\n",
    "y=crime['Resolution']"
   ]
  },
  {
   "cell_type": "code",
   "execution_count": 56,
   "id": "507d4fb5",
   "metadata": {},
   "outputs": [],
   "source": [
    "x2_test=crimetest[['DayOfWeek','PdDistrict','Address','latlong']]"
   ]
  },
  {
   "cell_type": "markdown",
   "id": "60cdf1b3",
   "metadata": {},
   "source": [
    "# Data Spliting for Training & Testing"
   ]
  },
  {
   "cell_type": "code",
   "execution_count": 36,
   "id": "414757a3",
   "metadata": {},
   "outputs": [],
   "source": [
    "x_train,x_test,y_train,y_test = train_test_split(x,y,test_size=0.1,random_state=42)\n"
   ]
  },
  {
   "cell_type": "markdown",
   "id": "7bb81c01",
   "metadata": {},
   "source": [
    "# Naive Bayes (MultinomialNB) Models Training"
   ]
  },
  {
   "cell_type": "code",
   "execution_count": 29,
   "id": "c5e40f5a",
   "metadata": {},
   "outputs": [],
   "source": [
    "nav = MultinomialNB()"
   ]
  },
  {
   "cell_type": "code",
   "execution_count": 30,
   "id": "676d18ea",
   "metadata": {},
   "outputs": [
    {
     "data": {
      "text/plain": [
       "MultinomialNB()"
      ]
     },
     "execution_count": 30,
     "metadata": {},
     "output_type": "execute_result"
    }
   ],
   "source": [
    "nav.fit(x,y)"
   ]
  },
  {
   "cell_type": "code",
   "execution_count": 44,
   "id": "26b36a46",
   "metadata": {},
   "outputs": [
    {
     "data": {
      "text/plain": [
       "0.07451406470481715"
      ]
     },
     "execution_count": 44,
     "metadata": {},
     "output_type": "execute_result"
    }
   ],
   "source": [
    "nav.score(x,y)"
   ]
  },
  {
   "cell_type": "code",
   "execution_count": 45,
   "id": "18aea04e",
   "metadata": {},
   "outputs": [
    {
     "data": {
      "text/plain": [
       "array([10,  1,  1, ..., 10,  1, 10])"
      ]
     },
     "execution_count": 45,
     "metadata": {},
     "output_type": "execute_result"
    }
   ],
   "source": [
    "nav_pred =nav.predict(x_test)\n",
    "nav_pred"
   ]
  },
  {
   "cell_type": "code",
   "execution_count": 55,
   "id": "fc662bd2",
   "metadata": {},
   "outputs": [
    {
     "name": "stdout",
     "output_type": "stream",
     "text": [
      "              precision    recall  f1-score   support\n",
      "\n",
      "           0       0.04      0.27      0.07      2957\n",
      "           1       0.52      0.10      0.17     39292\n",
      "           2       0.05      0.00      0.00       668\n",
      "           3       0.02      0.01      0.01       825\n",
      "           4       0.00      0.00      0.00       488\n",
      "           5       0.00      0.00      0.00       651\n",
      "           6       0.00      0.00      0.00       159\n",
      "           7       0.01      0.01      0.01       800\n",
      "           8       0.02      0.01      0.01      1057\n",
      "           9       0.04      0.00      0.00      3343\n",
      "          10       0.55      0.03      0.06     29994\n",
      "          11       0.01      0.60      0.02       834\n",
      "          12       0.03      0.01      0.01      2211\n",
      "          13       0.01      0.01      0.01       302\n",
      "          14       0.14      0.00      0.00      2150\n",
      "          15       0.18      0.13      0.15      2034\n",
      "          16       0.00      0.00      0.00        40\n",
      "\n",
      "    accuracy                           0.07     87805\n",
      "   macro avg       0.10      0.07      0.03     87805\n",
      "weighted avg       0.43      0.07      0.10     87805\n",
      "\n"
     ]
    }
   ],
   "source": [
    "print(classification_report(nav_pred,y_test))"
   ]
  },
  {
   "cell_type": "markdown",
   "id": "273c8f85",
   "metadata": {},
   "source": [
    "# KNN Models Training "
   ]
  },
  {
   "cell_type": "code",
   "execution_count": 32,
   "id": "e63dfb68",
   "metadata": {},
   "outputs": [],
   "source": [
    "knn = KNeighborsClassifier(n_neighbors=1)"
   ]
  },
  {
   "cell_type": "code",
   "execution_count": 33,
   "id": "29531107",
   "metadata": {},
   "outputs": [
    {
     "data": {
      "text/plain": [
       "KNeighborsClassifier(n_neighbors=1)"
      ]
     },
     "execution_count": 33,
     "metadata": {},
     "output_type": "execute_result"
    }
   ],
   "source": [
    "knn.fit(x,y)"
   ]
  },
  {
   "cell_type": "code",
   "execution_count": 34,
   "id": "d32eb24c",
   "metadata": {},
   "outputs": [
    {
     "name": "stderr",
     "output_type": "stream",
     "text": [
      "C:\\Users\\Hiten\\anaconda3\\lib\\site-packages\\sklearn\\neighbors\\_classification.py:228: FutureWarning: Unlike other reduction functions (e.g. `skew`, `kurtosis`), the default behavior of `mode` typically preserves the axis it acts along. In SciPy 1.11.0, this behavior will change: the default value of `keepdims` will become False, the `axis` over which the statistic is taken will be eliminated, and the value None will no longer be accepted. Set `keepdims` to True or False to avoid this warning.\n",
      "  mode, _ = stats.mode(_y[neigh_ind, k], axis=1)\n"
     ]
    },
    {
     "data": {
      "text/plain": [
       "0.9378360433187669"
      ]
     },
     "execution_count": 34,
     "metadata": {},
     "output_type": "execute_result"
    }
   ],
   "source": [
    "knn.score(x,y)"
   ]
  },
  {
   "cell_type": "code",
   "execution_count": 41,
   "id": "90c88169",
   "metadata": {},
   "outputs": [
    {
     "name": "stderr",
     "output_type": "stream",
     "text": [
      "C:\\Users\\Hiten\\anaconda3\\lib\\site-packages\\sklearn\\neighbors\\_classification.py:228: FutureWarning: Unlike other reduction functions (e.g. `skew`, `kurtosis`), the default behavior of `mode` typically preserves the axis it acts along. In SciPy 1.11.0, this behavior will change: the default value of `keepdims` will become False, the `axis` over which the statistic is taken will be eliminated, and the value None will no longer be accepted. Set `keepdims` to True or False to avoid this warning.\n",
      "  mode, _ = stats.mode(_y[neigh_ind, k], axis=1)\n"
     ]
    },
    {
     "data": {
      "text/plain": [
       "array([11,  0,  0, ...,  4, 11,  0])"
      ]
     },
     "execution_count": 41,
     "metadata": {},
     "output_type": "execute_result"
    }
   ],
   "source": [
    "knn_pred =knn.predict(x_test)\n",
    "knn_pred"
   ]
  },
  {
   "cell_type": "code",
   "execution_count": 42,
   "id": "37c6c22d",
   "metadata": {},
   "outputs": [
    {
     "name": "stdout",
     "output_type": "stream",
     "text": [
      "              precision    recall  f1-score   support\n",
      "\n",
      "           0       0.93      0.92      0.92     20986\n",
      "           1       0.85      0.91      0.88      7247\n",
      "           2       0.71      0.65      0.68        23\n",
      "           3       0.87      0.89      0.88       374\n",
      "           4       0.88      0.90      0.89       376\n",
      "           5       0.83      0.85      0.84       140\n",
      "           6       0.71      0.77      0.74       142\n",
      "           7       0.82      0.78      0.80       597\n",
      "           8       0.76      0.75      0.76       358\n",
      "           9       0.82      0.82      0.82        28\n",
      "          10       0.77      0.85      0.81      1543\n",
      "          11       0.97      0.96      0.96     53054\n",
      "          12       0.79      0.89      0.84       327\n",
      "          13       0.90      0.94      0.92       233\n",
      "          14       0.71      0.83      0.77         6\n",
      "          15       0.86      0.87      0.86      1459\n",
      "          16       0.85      0.89      0.87       912\n",
      "\n",
      "    accuracy                           0.94     87805\n",
      "   macro avg       0.83      0.85      0.84     87805\n",
      "weighted avg       0.94      0.94      0.94     87805\n",
      "\n"
     ]
    }
   ],
   "source": [
    "print(classification_report(knn_pred,y_test))"
   ]
  },
  {
   "cell_type": "markdown",
   "id": "7ca8d233",
   "metadata": {},
   "source": [
    "# Regression (Logistic) Models Training"
   ]
  },
  {
   "cell_type": "code",
   "execution_count": 47,
   "id": "c5b96371",
   "metadata": {},
   "outputs": [],
   "source": [
    "reg = LogisticRegression()\n"
   ]
  },
  {
   "cell_type": "code",
   "execution_count": 48,
   "id": "e3520e1b",
   "metadata": {},
   "outputs": [
    {
     "name": "stderr",
     "output_type": "stream",
     "text": [
      "C:\\Users\\Hiten\\anaconda3\\lib\\site-packages\\sklearn\\linear_model\\_logistic.py:814: ConvergenceWarning: lbfgs failed to converge (status=1):\n",
      "STOP: TOTAL NO. of ITERATIONS REACHED LIMIT.\n",
      "\n",
      "Increase the number of iterations (max_iter) or scale the data as shown in:\n",
      "    https://scikit-learn.org/stable/modules/preprocessing.html\n",
      "Please also refer to the documentation for alternative solver options:\n",
      "    https://scikit-learn.org/stable/modules/linear_model.html#logistic-regression\n",
      "  n_iter_i = _check_optimize_result(\n"
     ]
    },
    {
     "data": {
      "text/plain": [
       "LogisticRegression()"
      ]
     },
     "execution_count": 48,
     "metadata": {},
     "output_type": "execute_result"
    }
   ],
   "source": [
    "reg.fit(x,y)"
   ]
  },
  {
   "cell_type": "code",
   "execution_count": 51,
   "id": "aef86a12",
   "metadata": {},
   "outputs": [
    {
     "data": {
      "text/plain": [
       "0.5968755730033289"
      ]
     },
     "execution_count": 51,
     "metadata": {},
     "output_type": "execute_result"
    }
   ],
   "source": [
    "reg.score(x,y)"
   ]
  },
  {
   "cell_type": "code",
   "execution_count": 53,
   "id": "cd13065a",
   "metadata": {},
   "outputs": [
    {
     "data": {
      "text/plain": [
       "array([11, 11, 11, ..., 11, 11, 11])"
      ]
     },
     "execution_count": 53,
     "metadata": {},
     "output_type": "execute_result"
    }
   ],
   "source": [
    "reg_pred =reg.predict(x_test)\n",
    "reg_pred"
   ]
  },
  {
   "cell_type": "code",
   "execution_count": 54,
   "id": "9c10d62e",
   "metadata": {},
   "outputs": [
    {
     "name": "stdout",
     "output_type": "stream",
     "text": [
      "              precision    recall  f1-score   support\n",
      "\n",
      "           0       0.00      0.15      0.00       325\n",
      "           1       0.00      0.01      0.00       132\n",
      "           2       0.00      0.00      0.00         0\n",
      "           3       0.00      0.00      0.00         0\n",
      "           4       0.00      0.00      0.00         0\n",
      "           5       0.00      0.00      0.00         0\n",
      "           6       0.00      0.00      0.00         0\n",
      "           7       0.00      0.00      0.00         0\n",
      "           8       0.00      0.00      0.00         0\n",
      "           9       0.00      0.00      0.00         0\n",
      "          10       0.00      0.00      0.00         0\n",
      "          11       0.99      0.60      0.75     87348\n",
      "          12       0.00      0.00      0.00         0\n",
      "          13       0.00      0.00      0.00         0\n",
      "          14       0.00      0.00      0.00         0\n",
      "          15       0.00      0.00      0.00         0\n",
      "          16       0.00      0.00      0.00         0\n",
      "\n",
      "    accuracy                           0.60     87805\n",
      "   macro avg       0.06      0.04      0.04     87805\n",
      "weighted avg       0.99      0.60      0.74     87805\n",
      "\n"
     ]
    },
    {
     "name": "stderr",
     "output_type": "stream",
     "text": [
      "C:\\Users\\Hiten\\anaconda3\\lib\\site-packages\\sklearn\\metrics\\_classification.py:1318: UndefinedMetricWarning: Recall and F-score are ill-defined and being set to 0.0 in labels with no true samples. Use `zero_division` parameter to control this behavior.\n",
      "  _warn_prf(average, modifier, msg_start, len(result))\n",
      "C:\\Users\\Hiten\\anaconda3\\lib\\site-packages\\sklearn\\metrics\\_classification.py:1318: UndefinedMetricWarning: Recall and F-score are ill-defined and being set to 0.0 in labels with no true samples. Use `zero_division` parameter to control this behavior.\n",
      "  _warn_prf(average, modifier, msg_start, len(result))\n",
      "C:\\Users\\Hiten\\anaconda3\\lib\\site-packages\\sklearn\\metrics\\_classification.py:1318: UndefinedMetricWarning: Recall and F-score are ill-defined and being set to 0.0 in labels with no true samples. Use `zero_division` parameter to control this behavior.\n",
      "  _warn_prf(average, modifier, msg_start, len(result))\n"
     ]
    }
   ],
   "source": [
    "print(classification_report(reg_pred,y_test))"
   ]
  }
 ],
 "metadata": {
  "kernelspec": {
   "display_name": "Python 3 (ipykernel)",
   "language": "python",
   "name": "python3"
  },
  "language_info": {
   "codemirror_mode": {
    "name": "ipython",
    "version": 3
   },
   "file_extension": ".py",
   "mimetype": "text/x-python",
   "name": "python",
   "nbconvert_exporter": "python",
   "pygments_lexer": "ipython3",
   "version": "3.9.13"
  }
 },
 "nbformat": 4,
 "nbformat_minor": 5
}
