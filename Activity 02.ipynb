{
 "cells": [
  {
   "cell_type": "markdown",
   "id": "9e5f328d",
   "metadata": {},
   "source": [
    "# Task1: Calculate Area Of Triangle when Length And Width Is Given"
   ]
  },
  {
   "cell_type": "code",
   "execution_count": 6,
   "id": "84a7c40e",
   "metadata": {},
   "outputs": [
    {
     "name": "stdout",
     "output_type": "stream",
     "text": [
      "Enter Length:4\n",
      "Enter Width:5\n",
      "Area of Rectangular is: 20\n"
     ]
    }
   ],
   "source": [
    "l=int(input(\"Enter Length:\"))\n",
    "w=int(input(\"Enter Width:\"))\n",
    "A=(l*w)\n",
    "print(\"Area of Rectangular is:\",Area)"
   ]
  },
  {
   "cell_type": "markdown",
   "id": "7a2de402",
   "metadata": {},
   "source": [
    "#  Task2:Add Two Strings"
   ]
  },
  {
   "cell_type": "code",
   "execution_count": 17,
   "id": "16b43b96",
   "metadata": {},
   "outputs": [
    {
     "name": "stdout",
     "output_type": "stream",
     "text": [
      "Enter your First Name:Hiten\n",
      "Enter your Last Name:Kumar\n"
     ]
    },
    {
     "data": {
      "text/plain": [
       "'Hiten Kumar'"
      ]
     },
     "execution_count": 17,
     "metadata": {},
     "output_type": "execute_result"
    }
   ],
   "source": [
    "a=input(\"Enter your First Name:\")\n",
    "b=input(\"Enter your Last Name:\")\n",
    "c=a+\" \" + b\n",
    "c"
   ]
  },
  {
   "cell_type": "markdown",
   "id": "ae912c2c",
   "metadata": {},
   "source": [
    "# Task3: Swap two Numbers"
   ]
  },
  {
   "cell_type": "code",
   "execution_count": 18,
   "id": "ed7b6dbb",
   "metadata": {},
   "outputs": [
    {
     "name": "stdout",
     "output_type": "stream",
     "text": [
      "Enter 1st Value for Swap:3\n",
      "Enter 2nd Value for Swap:2\n",
      "Value of num1 After Swaping is: 2\n",
      "Value of num2 After Swaping is: 3\n"
     ]
    }
   ],
   "source": [
    "num1 = int(input(\"Enter 1st Value for Swap:\"))\n",
    "num2 = int(input(\"Enter 2nd Value for Swap:\"))\n",
    "\n",
    "temp=num1\n",
    "num1=num2\n",
    "num2=temp\n",
    "\n",
    "print(\"Value of num1 After Swaping is:\",num1)\n",
    "print(\"Value of num2 After Swaping is:\",num2)\n"
   ]
  },
  {
   "cell_type": "code",
   "execution_count": null,
   "id": "802a23c9",
   "metadata": {},
   "outputs": [],
   "source": []
  }
 ],
 "metadata": {
  "kernelspec": {
   "display_name": "Python 3 (ipykernel)",
   "language": "python",
   "name": "python3"
  },
  "language_info": {
   "codemirror_mode": {
    "name": "ipython",
    "version": 3
   },
   "file_extension": ".py",
   "mimetype": "text/x-python",
   "name": "python",
   "nbconvert_exporter": "python",
   "pygments_lexer": "ipython3",
   "version": "3.10.9"
  }
 },
 "nbformat": 4,
 "nbformat_minor": 5
}
