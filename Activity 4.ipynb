{
 "cells": [
  {
   "cell_type": "markdown",
   "id": "10e175b5",
   "metadata": {},
   "source": [
    "# Task1: Create a function to check if num is prime."
   ]
  },
  {
   "cell_type": "code",
   "execution_count": 16,
   "id": "adc55a34",
   "metadata": {},
   "outputs": [
    {
     "name": "stdout",
     "output_type": "stream",
     "text": [
      "4 is not prime number\n"
     ]
    }
   ],
   "source": [
    "def primenum(num):\n",
    "    if num>1:\n",
    "        for x in range(2,int(num/2)+1):\n",
    "            if(num%x)==0:\n",
    "                print(num,\"is not prime number\")\n",
    "                break\n",
    "        else:\n",
    "            print(num,\"is prime number\")\n",
    "    else:\n",
    "        print(num,\"is not Prime\")\n",
    "                \n",
    "primenum(4)"
   ]
  },
  {
   "cell_type": "markdown",
   "id": "e560833b",
   "metadata": {},
   "source": [
    "# Task2: Create a function to calculate the area of circle give its radius"
   ]
  },
  {
   "cell_type": "code",
   "execution_count": 23,
   "id": "346b39fb",
   "metadata": {},
   "outputs": [
    {
     "name": "stdout",
     "output_type": "stream",
     "text": [
      "0.3184713375796178\n"
     ]
    }
   ],
   "source": [
    "def radius(c):\n",
    "    r=(c/(2*3.14))\n",
    "    print(r)   \n",
    "radius(2)"
   ]
  },
  {
   "cell_type": "markdown",
   "id": "c1e9c7e2",
   "metadata": {},
   "source": [
    "# Task3:Use len function to count num of character in string"
   ]
  },
  {
   "cell_type": "code",
   "execution_count": 24,
   "id": "db82e2e1",
   "metadata": {},
   "outputs": [
    {
     "data": {
      "text/plain": [
       "11"
      ]
     },
     "execution_count": 24,
     "metadata": {},
     "output_type": "execute_result"
    }
   ],
   "source": [
    "a=\"Hiten Kumar\"\n",
    "len(a)"
   ]
  },
  {
   "cell_type": "markdown",
   "id": "36c6b1e2",
   "metadata": {},
   "source": [
    "# Task4: create a funtion to calculate factroial of a number"
   ]
  },
  {
   "cell_type": "code",
   "execution_count": 38,
   "id": "32c692dd",
   "metadata": {},
   "outputs": [
    {
     "name": "stdout",
     "output_type": "stream",
     "text": [
      "The factorial of 5 is 120\n"
     ]
    }
   ],
   "source": [
    "def fact(num2):\n",
    "    factorial = 1\n",
    "    if num2<0:\n",
    "        print(\"Factorial is no Possible\")\n",
    "        \n",
    "    elif num2 == 0:\n",
    "        print(\"Factorial of 0 is 1\")\n",
    "        \n",
    "    else:\n",
    "        for i in range(1,num2 + 1):\n",
    "            factorial = factorial*i\n",
    "        print(\"The factorial of\",num2,\"is\",factorial)\n",
    "        \n",
    "fact(5)"
   ]
  },
  {
   "cell_type": "code",
   "execution_count": 39,
   "id": "3afaa4c9",
   "metadata": {},
   "outputs": [
    {
     "name": "stdout",
     "output_type": "stream",
     "text": [
      "The factorial of 10 is 3628800\n"
     ]
    }
   ],
   "source": [
    "fact(10)"
   ]
  },
  {
   "cell_type": "code",
   "execution_count": null,
   "id": "748d9084",
   "metadata": {},
   "outputs": [],
   "source": []
  },
  {
   "cell_type": "code",
   "execution_count": null,
   "id": "4f0786be",
   "metadata": {},
   "outputs": [],
   "source": []
  }
 ],
 "metadata": {
  "kernelspec": {
   "display_name": "Python 3 (ipykernel)",
   "language": "python",
   "name": "python3"
  },
  "language_info": {
   "codemirror_mode": {
    "name": "ipython",
    "version": 3
   },
   "file_extension": ".py",
   "mimetype": "text/x-python",
   "name": "python",
   "nbconvert_exporter": "python",
   "pygments_lexer": "ipython3",
   "version": "3.10.9"
  }
 },
 "nbformat": 4,
 "nbformat_minor": 5
}
