{
 "cells": [
  {
   "cell_type": "markdown",
   "id": "b2185e03",
   "metadata": {},
   "source": [
    "# Task1: Determine if a number is Even or Odd"
   ]
  },
  {
   "cell_type": "code",
   "execution_count": 1,
   "id": "0d72eb06",
   "metadata": {},
   "outputs": [
    {
     "name": "stdout",
     "output_type": "stream",
     "text": [
      "Enter Any Number:5\n",
      "The number is Odd\n"
     ]
    }
   ],
   "source": [
    "num = int(input(\"Enter Any Number:\"))\n",
    "\n",
    "if(num%2)==0:\n",
    "    print(\"The number is Even\")\n",
    "else:\n",
    "    print(\"The number is Odd\")"
   ]
  },
  {
   "cell_type": "markdown",
   "id": "eb14780a",
   "metadata": {},
   "source": [
    "# Task2:Find the Maximum Among Three Numbers(10,20,15)"
   ]
  },
  {
   "cell_type": "code",
   "execution_count": 9,
   "id": "1113719f",
   "metadata": {},
   "outputs": [
    {
     "name": "stdout",
     "output_type": "stream",
     "text": [
      "20 is the Maximum Among Three Numbers\n"
     ]
    }
   ],
   "source": [
    "l1 = [10,20,15]\n",
    "for x in l1:\n",
    "    if x>15:\n",
    "        print(x,\"is the Maximum Among Three Numbers\")\n",
    "        "
   ]
  },
  {
   "cell_type": "markdown",
   "id": "ca3a6988",
   "metadata": {},
   "source": [
    "# Task3:Print A multiplication Table"
   ]
  },
  {
   "cell_type": "code",
   "execution_count": 18,
   "id": "5b906ab3",
   "metadata": {},
   "outputs": [
    {
     "name": "stdout",
     "output_type": "stream",
     "text": [
      "Enter Any Number: 3\n",
      "3 x 1 = 3\n",
      "3 x 2 = 6\n",
      "3 x 3 = 9\n",
      "3 x 4 = 12\n",
      "3 x 5 = 15\n",
      "3 x 6 = 18\n",
      "3 x 7 = 21\n",
      "3 x 8 = 24\n",
      "3 x 9 = 27\n",
      "3 x 10 = 30\n"
     ]
    }
   ],
   "source": [
    "num1 = int(input(\"Enter Any Number: \"))\n",
    "for x in range(1,11):\n",
    "    print(num1,\"x\",x,\"=\",(x*num1))"
   ]
  },
  {
   "cell_type": "markdown",
   "id": "39fb3867",
   "metadata": {},
   "source": [
    "# Taks4: Check Student is \"Pass\" and \"Failed\" or \"Need Improvement\""
   ]
  },
  {
   "cell_type": "code",
   "execution_count": 27,
   "id": "6a830e58",
   "metadata": {},
   "outputs": [
    {
     "name": "stdout",
     "output_type": "stream",
     "text": [
      "Enter English Marks:10\n",
      "Enter Math Marks:10\n",
      "Enter Chemistry Marks:10\n",
      "Enter Physics Marks:10\n",
      "\n",
      "You got 10.0 Marks\n",
      "You Are Failed\n",
      "Better Luck Next Time\n"
     ]
    }
   ],
   "source": [
    "m1 = int(input(\"Enter English Marks:\"))\n",
    "m2 = int(input(\"Enter Math Marks:\"))\n",
    "m3 = int(input(\"Enter Chemistry Marks:\"))\n",
    "m4 = int(input(\"Enter Physics Marks:\"))\n",
    "total = ((m1+m2+m3+m4)/400)*100\n",
    "\n",
    "print(\"\\nYou got\",total,\"Marks\")\n",
    "if total > 70:\n",
    "    print(\"well done you are passed\")\n",
    "elif total >33 and total< 70:\n",
    "     print(\"you need improvement\")\n",
    "else:\n",
    "    print(\"You Are Failed\")\n",
    "    print(\"Better Luck Next Time\")"
   ]
  }
 ],
 "metadata": {
  "kernelspec": {
   "display_name": "Python 3 (ipykernel)",
   "language": "python",
   "name": "python3"
  },
  "language_info": {
   "codemirror_mode": {
    "name": "ipython",
    "version": 3
   },
   "file_extension": ".py",
   "mimetype": "text/x-python",
   "name": "python",
   "nbconvert_exporter": "python",
   "pygments_lexer": "ipython3",
   "version": "3.10.9"
  }
 },
 "nbformat": 4,
 "nbformat_minor": 5
}
